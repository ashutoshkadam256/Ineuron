{
 "cells": [
  {
   "cell_type": "code",
   "execution_count": null,
   "id": "3fa64c8e",
   "metadata": {},
   "outputs": [],
   "source": [
    "\"\"\"\n",
    "1. Why are functions advantageous to have in your programs?\n",
    "2. When does the code in a function run: when it's specified or when it's called?\n",
    "3. What statement creates a function?\n",
    "4. What is the difference between a function and a function call?\n",
    "5. How many global scopes are there in a Python program? How many local scopes?\n",
    "6. What happens to variables in a local scope when the function call returns?\n",
    "7. What is the concept of a return value? Is it possible to have a return value in an expression?\n",
    "8. If a function does not have a return statement, what is the return value of a call to that function?\n",
    "9. How do you make a function variable refer to the global variable?\n",
    "10. What is the data type of None?\n",
    "11. What does the sentence import areallyourpetsnamederic do?\n",
    "12. If you had a bacon() feature in a spam module, what would you call it after importing spam?\n",
    "13. What can you do to save a programme from crashing if it encounters an error?\n",
    "14. What is the purpose of the try clause? What is the purpose of the except clause?\n",
    "\"\"\""
   ]
  },
  {
   "cell_type": "markdown",
   "id": "301eee07",
   "metadata": {},
   "source": [
    "## Ans1 ##\n",
    "\n",
    "When you create function you have not repeat code again and again you can use  that set of code by using function \n",
    "which our save time.\n"
   ]
  },
  {
   "cell_type": "markdown",
   "id": "dcc9f8af",
   "metadata": {},
   "source": [
    "## Ans2 ##\n",
    "#We have to define function and particular function run when it is get called"
   ]
  },
  {
   "cell_type": "markdown",
   "id": "f84ad941",
   "metadata": {},
   "source": [
    "## Ans3 ##\n",
    "#when we use def function name and give parameters , then function defination it will create function eg.\n",
    "\n",
    "def Sum(a,b):\n",
    "    return a+b"
   ]
  },
  {
   "cell_type": "markdown",
   "id": "c3c941a5",
   "metadata": {},
   "source": [
    "\n"
   ]
  },
  {
   "cell_type": "markdown",
   "id": "d95887f0",
   "metadata": {},
   "source": [
    "## Ans4 ##\n",
    "\n",
    "In function we have to define operation its function name e.g\n",
    "def Sum(a,b):\n",
    "    return a+b\n",
    "    \n",
    " but in fuction call we just need to write function and it's parameter. e.g\n",
    " \n",
    " Sum(3,4)"
   ]
  },
  {
   "cell_type": "markdown",
   "id": "8758df1c",
   "metadata": {},
   "source": [
    "## Ans5 ##\n",
    "#when we use def function name and give parameters , then function defination it will create function eg.\n",
    "\n",
    "def Sum(a,b):\n",
    "    return a+b"
   ]
  },
  {
   "cell_type": "markdown",
   "id": "991f075f",
   "metadata": {},
   "source": [
    "## Ans6 ##\n",
    "#There is only one global scope per program execution.\n",
    "#There is only one local scope which created inside function using def statement and lambda expression"
   ]
  },
  {
   "cell_type": "markdown",
   "id": "8e8d5bb7",
   "metadata": {},
   "source": [
    "## Ans7 ##\n",
    "#when variable scope return from local scope after operation in function it takes value of global scope if same varible is there\n",
    " the value of local varible is completly forgotten"
   ]
  },
  {
   "cell_type": "code",
   "execution_count": 3,
   "id": "3483951b",
   "metadata": {},
   "outputs": [],
   "source": [
    "def Sum() :\n",
    "    2+2"
   ]
  },
  {
   "cell_type": "code",
   "execution_count": 4,
   "id": "af17023e",
   "metadata": {},
   "outputs": [],
   "source": [
    "a = Sum()"
   ]
  },
  {
   "cell_type": "code",
   "execution_count": 5,
   "id": "3b18bdad",
   "metadata": {},
   "outputs": [
    {
     "data": {
      "text/plain": [
       "NoneType"
      ]
     },
     "execution_count": 5,
     "metadata": {},
     "output_type": "execute_result"
    }
   ],
   "source": [
    "type(a)"
   ]
  },
  {
   "cell_type": "markdown",
   "id": "0a475680",
   "metadata": {},
   "source": [
    "## Ans8 ##\n",
    " #If function does not have return statement that it return NoneType value"
   ]
  },
  {
   "cell_type": "markdown",
   "id": "b6ee6997",
   "metadata": {},
   "source": [
    "## Ans 9 ##\n",
    "#We can create function varible refer to the global variable using keyword global eg.\n",
    "\n",
    "Def Fun():\n",
    "    global x\n",
    "    \n",
    "    return x + 42"
   ]
  },
  {
   "cell_type": "markdown",
   "id": "2b3fb43f",
   "metadata": {},
   "source": [
    "## Ans 10 ##\n",
    "3 NoneType is is the data type of None"
   ]
  },
  {
   "cell_type": "code",
   "execution_count": 7,
   "id": "a5ccbb1b",
   "metadata": {},
   "outputs": [
    {
     "data": {
      "text/plain": [
       "NoneType"
      ]
     },
     "execution_count": 7,
     "metadata": {},
     "output_type": "execute_result"
    }
   ],
   "source": [
    "type(None)"
   ]
  },
  {
   "cell_type": "markdown",
   "id": "1087050b",
   "metadata": {},
   "source": [
    "## Ans 11\n",
    "#That import statement imports a module named areallyourpetsnamederic."
   ]
  },
  {
   "cell_type": "markdown",
   "id": "47028d64",
   "metadata": {},
   "source": [
    "## Ans 12\n",
    " spam.bacon()"
   ]
  },
  {
   "cell_type": "markdown",
   "id": "02be6b76",
   "metadata": {},
   "source": [
    "## Ans 13\n",
    "\n",
    "we can handle the error using Exception handling using try - except and try - except - finally\n",
    "and show user what is  the error"
   ]
  },
  {
   "cell_type": "code",
   "execution_count": 15,
   "id": "0d48147e",
   "metadata": {},
   "outputs": [
    {
     "name": "stdout",
     "output_type": "stream",
     "text": [
      "Please enter a number: ugh\n",
      "Error: there was an error\n"
     ]
    }
   ],
   "source": [
    "try:\n",
    "    x = int(input(\"Please enter a number: \"))\n",
    "    y = 100 / x\n",
    "except ValueError:\n",
    "    print(\"Error: there was an error\")"
   ]
  },
  {
   "cell_type": "markdown",
   "id": "0c027084",
   "metadata": {},
   "source": [
    "## Ans 14 ##\n",
    "#try Clause :- The code that could potentially cause an error goes in the try clause.\n",
    "\n",
    "#except Clause :- The code that executes if an error happens goes in the except clause."
   ]
  },
  {
   "cell_type": "code",
   "execution_count": null,
   "id": "6b5dfe2e",
   "metadata": {},
   "outputs": [],
   "source": []
  }
 ],
 "metadata": {
  "kernelspec": {
   "display_name": "Python 3 (ipykernel)",
   "language": "python",
   "name": "python3"
  },
  "language_info": {
   "codemirror_mode": {
    "name": "ipython",
    "version": 3
   },
   "file_extension": ".py",
   "mimetype": "text/x-python",
   "name": "python",
   "nbconvert_exporter": "python",
   "pygments_lexer": "ipython3",
   "version": "3.9.12"
  }
 },
 "nbformat": 4,
 "nbformat_minor": 5
}
