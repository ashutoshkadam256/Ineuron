{
 "cells": [
  {
   "cell_type": "markdown",
   "id": "08103a25",
   "metadata": {},
   "source": [
    "1. What is the name of the feature responsible for generating Regex objects?"
   ]
  },
  {
   "cell_type": "markdown",
   "id": "8d1f6860",
   "metadata": {},
   "source": [
    "Python’s re.compile() method is used to compile a regular expression pattern provided as a string into a regex pattern object (re.Pattern)."
   ]
  },
  {
   "cell_type": "code",
   "execution_count": 3,
   "id": "4d6578a0",
   "metadata": {},
   "outputs": [],
   "source": [
    "import re\n",
    "pattern = re.compile(r'\\d')"
   ]
  },
  {
   "cell_type": "code",
   "execution_count": 6,
   "id": "fb3b48c2",
   "metadata": {},
   "outputs": [],
   "source": [
    "res = pattern.findall('56dfs')"
   ]
  },
  {
   "cell_type": "code",
   "execution_count": 7,
   "id": "91f337e3",
   "metadata": {},
   "outputs": [
    {
     "data": {
      "text/plain": [
       "['5', '6']"
      ]
     },
     "execution_count": 7,
     "metadata": {},
     "output_type": "execute_result"
    }
   ],
   "source": [
    "res"
   ]
  },
  {
   "cell_type": "markdown",
   "id": "4545bec7",
   "metadata": {},
   "source": [
    "2.Why do raw strings often appear in Regex objects?"
   ]
  },
  {
   "cell_type": "markdown",
   "id": "18b06ed3",
   "metadata": {},
   "source": [
    "Because regular expressions are frequently static strings, which are conveniently represented as string literals. And from the different string literal notations available, raw strings are a convenient choice, when the regular expression includes a backslash character."
   ]
  },
  {
   "cell_type": "markdown",
   "id": "faedf100",
   "metadata": {},
   "source": [
    "3. What is the return value of the search() method?"
   ]
  },
  {
   "cell_type": "markdown",
   "id": "e3e8ca79",
   "metadata": {},
   "source": [
    "The function searches for some substring in a string and returns a match object if found, else it returns none."
   ]
  },
  {
   "cell_type": "code",
   "execution_count": 9,
   "id": "590fe1d8",
   "metadata": {},
   "outputs": [],
   "source": [
    "txt = 'Hello i am indian who are you'"
   ]
  },
  {
   "cell_type": "code",
   "execution_count": 10,
   "id": "8c1276d8",
   "metadata": {},
   "outputs": [
    {
     "data": {
      "text/plain": [
       "<re.Match object; span=(11, 17), match='indian'>"
      ]
     },
     "execution_count": 10,
     "metadata": {},
     "output_type": "execute_result"
    }
   ],
   "source": [
    "import re\n",
    "re.search('indian',txt)"
   ]
  },
  {
   "cell_type": "code",
   "execution_count": 14,
   "id": "db5c7f72",
   "metadata": {},
   "outputs": [],
   "source": [
    "import re\n",
    "ans = re.search('japan',txt)"
   ]
  },
  {
   "cell_type": "code",
   "execution_count": 16,
   "id": "669ec1ce",
   "metadata": {},
   "outputs": [
    {
     "name": "stdout",
     "output_type": "stream",
     "text": [
      "None\n"
     ]
    }
   ],
   "source": [
    "print(ans)"
   ]
  },
  {
   "cell_type": "markdown",
   "id": "be9e7114",
   "metadata": {},
   "source": [
    "4. From a Match item, how do you get the actual strings that match the pattern?"
   ]
  },
  {
   "cell_type": "markdown",
   "id": "67d1557a",
   "metadata": {},
   "source": [
    "The group() method returns strings of the matched text."
   ]
  },
  {
   "cell_type": "code",
   "execution_count": 19,
   "id": "807b187e",
   "metadata": {},
   "outputs": [],
   "source": [
    "m = re.match(r\"(\\d+)\\.(\\d+)\", \"27.1835\")"
   ]
  },
  {
   "cell_type": "code",
   "execution_count": 21,
   "id": "9452814c",
   "metadata": {},
   "outputs": [
    {
     "data": {
      "text/plain": [
       "('27', '1835')"
      ]
     },
     "execution_count": 21,
     "metadata": {},
     "output_type": "execute_result"
    }
   ],
   "source": [
    "m.groups()"
   ]
  },
  {
   "cell_type": "markdown",
   "id": "50a47398",
   "metadata": {},
   "source": [
    "5. In the regex which created from the r&#39;(\\d\\d\\d)-(\\d\\d\\d-\\d\\d\\d\\d)&#39;, what does group zero cover?\n",
    "Group 2? Group 1?"
   ]
  },
  {
   "cell_type": "code",
   "execution_count": 3,
   "id": "d0b9ab4d",
   "metadata": {},
   "outputs": [],
   "source": [
    "import re\n",
    "phoneNumRegex = re.compile(r'(\\d\\d\\d)-(\\d\\d\\d-\\d\\d\\d\\d)')\n",
    "mo = phoneNumRegex.search('My number is 415-555-4242.')"
   ]
  },
  {
   "cell_type": "code",
   "execution_count": 4,
   "id": "caff786a",
   "metadata": {},
   "outputs": [
    {
     "data": {
      "text/plain": [
       "<re.Match object; span=(13, 25), match='415-555-4242'>"
      ]
     },
     "execution_count": 4,
     "metadata": {},
     "output_type": "execute_result"
    }
   ],
   "source": [
    "mo"
   ]
  },
  {
   "cell_type": "markdown",
   "id": "6c9a1d32",
   "metadata": {},
   "source": [
    "Then you can use the group() match object method to grab the matching text from just one group."
   ]
  },
  {
   "cell_type": "code",
   "execution_count": 5,
   "id": "3e0c7fd9",
   "metadata": {},
   "outputs": [
    {
     "data": {
      "text/plain": [
       "'415'"
      ]
     },
     "execution_count": 5,
     "metadata": {},
     "output_type": "execute_result"
    }
   ],
   "source": [
    "mo.group(1)"
   ]
  },
  {
   "cell_type": "markdown",
   "id": "b9c5bbb4",
   "metadata": {},
   "source": [
    "Group 0 is the entire match, group 1 covers the first set of parentheses, and group 2 covers the second set of parentheses"
   ]
  },
  {
   "cell_type": "markdown",
   "id": "fc737867",
   "metadata": {},
   "source": [
    "6. In standard expression syntax, parentheses and intervals have distinct meanings. How can you tell\n",
    "a regex that you want it to fit real parentheses and periods?"
   ]
  },
  {
   "cell_type": "markdown",
   "id": "8004c619",
   "metadata": {},
   "source": [
    "Periods and parentheses can be escaped with a backslash: \\., \\(, and \\)."
   ]
  },
  {
   "cell_type": "markdown",
   "id": "3a5ee83a",
   "metadata": {},
   "source": [
    "7. The findall() method returns a string list or a list of string tuples. What causes it to return one of\n",
    "the two options?"
   ]
  },
  {
   "cell_type": "markdown",
   "id": "fa117cc0",
   "metadata": {},
   "source": [
    "If the regex has no groups, a list of strings is returned. If the regex has groups, a list of tuples of strings is returned."
   ]
  },
  {
   "cell_type": "markdown",
   "id": "cecac7b3",
   "metadata": {},
   "source": [
    "8. In standard expressions, what does the | character mean?"
   ]
  },
  {
   "cell_type": "markdown",
   "id": "361ae23d",
   "metadata": {},
   "source": [
    "This character refer as matching “either, or” between two groups"
   ]
  },
  {
   "cell_type": "markdown",
   "id": "0c664c3a",
   "metadata": {},
   "source": [
    "9. In regular expressions, what does the character stand for?"
   ]
  },
  {
   "cell_type": "markdown",
   "id": "32395888",
   "metadata": {},
   "source": [
    "Please refer character"
   ]
  },
  {
   "cell_type": "markdown",
   "id": "0d89681c",
   "metadata": {},
   "source": [
    "10.In regular expressions, what is the difference between the + and * characters?"
   ]
  },
  {
   "cell_type": "markdown",
   "id": "25100208",
   "metadata": {},
   "source": [
    "‘+’ matches at least one term\n",
    "‘*’ can matches zero terms"
   ]
  },
  {
   "cell_type": "markdown",
   "id": "f4498f86",
   "metadata": {},
   "source": [
    "// match at least one A \n",
    "\"A+\" \n",
    " \n",
    "// Match zero or more 7's \n",
    "\"7*\" "
   ]
  },
  {
   "cell_type": "markdown",
   "id": "5ad0c139",
   "metadata": {},
   "source": [
    "11. What is the difference between {4} and {4,5} in regular expression?"
   ]
  },
  {
   "cell_type": "markdown",
   "id": "be209ea6",
   "metadata": {},
   "source": [
    "The {4} matches exactly three instances of the preceding group. The {4,5} matches between four and five instances."
   ]
  },
  {
   "cell_type": "markdown",
   "id": "d9df1ed4",
   "metadata": {},
   "source": [
    "12. What do you mean by the \\d, \\w, and \\s shorthand character classes signify in regular\n",
    "expressions?"
   ]
  },
  {
   "cell_type": "markdown",
   "id": "614a306d",
   "metadata": {},
   "source": [
    "The \\d, \\w, and \\s shorthand character classes match a single digit, word, or space character, respectively."
   ]
  },
  {
   "cell_type": "markdown",
   "id": "0c9ce473",
   "metadata": {},
   "source": [
    "13. What do means by \\D, \\W, and \\S shorthand character classes signify in regular expressions?\n",
    "\n",
    "Ans: The \\D, \\W, and \\S shorthand character classes match a single character that is not a digit, word, or space character, respectively."
   ]
  },
  {
   "cell_type": "markdown",
   "id": "a3bf14c3",
   "metadata": {},
   "source": [
    "14. What is the difference between .* and .*?"
   ]
  },
  {
   "cell_type": "code",
   "execution_count": 8,
   "id": "251b971a",
   "metadata": {},
   "outputs": [],
   "source": [
    "txt = '<head></head><body></body>'"
   ]
  },
  {
   "cell_type": "code",
   "execution_count": 9,
   "id": "176beebf",
   "metadata": {},
   "outputs": [
    {
     "data": {
      "text/plain": [
       "['<head></head><body></body>']"
      ]
     },
     "execution_count": 9,
     "metadata": {},
     "output_type": "execute_result"
    }
   ],
   "source": [
    "import re\n",
    "pattern = re.compile(\"<.*>\")\n",
    "pattern.findall(txt)"
   ]
  },
  {
   "cell_type": "code",
   "execution_count": 10,
   "id": "c4f6be76",
   "metadata": {},
   "outputs": [
    {
     "data": {
      "text/plain": [
       "['<head>', '</head>', '<body>', '</body>']"
      ]
     },
     "execution_count": 10,
     "metadata": {},
     "output_type": "execute_result"
    }
   ],
   "source": [
    "import re\n",
    "pattern = re.compile(\"<.*?>\")\n",
    "pattern.findall(txt)"
   ]
  },
  {
   "cell_type": "markdown",
   "id": "b99da8ba",
   "metadata": {},
   "source": [
    "first one greedy and second is non greedy match"
   ]
  },
  {
   "cell_type": "markdown",
   "id": "f216991b",
   "metadata": {},
   "source": [
    "15. What is the syntax for matching both numbers and lowercase letters with a character class?"
   ]
  },
  {
   "cell_type": "markdown",
   "id": "67e5f498",
   "metadata": {},
   "source": [
    "Either [0-9a-z] or [a-z0-9]"
   ]
  },
  {
   "cell_type": "markdown",
   "id": "efab938d",
   "metadata": {},
   "source": [
    "16. What is the procedure for making a normal expression in regax case insensitive?"
   ]
  },
  {
   "cell_type": "markdown",
   "id": "17f7213c",
   "metadata": {},
   "source": [
    " Passing re.I or re.IGNORECASE as the second argument to re.compile() will make the matching case insensitive."
   ]
  },
  {
   "cell_type": "markdown",
   "id": "fe84e2a7",
   "metadata": {},
   "source": [
    "re.search('test', 'TeSt', re.IGNORECASE)\n",
    "\n",
    "re.match('test', 'TeSt', re.IGNORECASE)"
   ]
  },
  {
   "cell_type": "markdown",
   "id": "8def86d2",
   "metadata": {},
   "source": [
    "17. What does the . character normally match? What does it match if re.DOTALL is passed as 2nd\n",
    "argument in re.compile()?"
   ]
  },
  {
   "cell_type": "markdown",
   "id": "2ced2f18",
   "metadata": {},
   "source": [
    "The . character normally matches any character except the newline character. If re.DOTALL is passed as the second argument to re.compile(), then the dot will also match newline characters."
   ]
  },
  {
   "cell_type": "markdown",
   "id": "b7ed84e2",
   "metadata": {},
   "source": [
    "18. If numReg = re.compile(r&#39;\\d+&#39;), what will numRegex.sub(&#39;X&#39;, &#39;11 drummers, 10 pipers, five rings, 4\n",
    "hen&#39;) return?"
   ]
  },
  {
   "cell_type": "code",
   "execution_count": 13,
   "id": "76aa49d0",
   "metadata": {},
   "outputs": [
    {
     "data": {
      "text/plain": [
       "'X drummers, X pipers, five rings, X hen'"
      ]
     },
     "execution_count": 13,
     "metadata": {},
     "output_type": "execute_result"
    }
   ],
   "source": [
    "import re\n",
    "numReg = re.compile(r'\\d+')\n",
    "numReg.sub('X', '11 drummers, 10 pipers, five rings, 4 hen')"
   ]
  },
  {
   "cell_type": "markdown",
   "id": "c0767b68",
   "metadata": {},
   "source": [
    "re.sub(pattern, repl, string, count=0, flags=0) it replace digits with X as mentioned "
   ]
  },
  {
   "cell_type": "markdown",
   "id": "9cfeba08",
   "metadata": {},
   "source": [
    "19. What does passing re.VERBOSE as the 2nd argument to re.compile() allow to do?"
   ]
  },
  {
   "cell_type": "markdown",
   "id": "33c6c3a6",
   "metadata": {},
   "source": [
    "The re.VERBOSE argument allows you to add whitespace and comments to the string passed to re.compile()"
   ]
  },
  {
   "cell_type": "markdown",
   "id": "7ef2f650",
   "metadata": {},
   "source": [
    "20. How would you write a regex that match a number with comma for every three digits? It must\n",
    "match the given following:\n",
    "&#39;42&#39;\n",
    "&#39;1,234&#39;\n",
    "&#39;6,368,745&#39;\n",
    "\n",
    "but not the following:\n",
    "&#39;12,34,567&#39; (which has only two digits between the commas)\n",
    "&#39;1234&#39; (which lacks commas)"
   ]
  },
  {
   "cell_type": "markdown",
   "id": "8e988ccd",
   "metadata": {},
   "source": [
    "e.compile(r'^\\d{1,3}(,{3})*$') will create this regex, but other regex strings can produce a similar regular expression."
   ]
  },
  {
   "cell_type": "code",
   "execution_count": 18,
   "id": "9e11f1a5",
   "metadata": {},
   "outputs": [
    {
     "data": {
      "text/plain": [
       "[]"
      ]
     },
     "execution_count": 18,
     "metadata": {},
     "output_type": "execute_result"
    }
   ],
   "source": [
    "import re\n",
    "numReg = re.compile(r'^\\d{1,3}(,{3})*$')\n",
    "numReg.findall('6368745')"
   ]
  },
  {
   "cell_type": "markdown",
   "id": "b9ca1531",
   "metadata": {},
   "source": [
    "21. How would you write a regex that matches the full name of someone whose last name is\n",
    "Watanabe? You can assume that the first name that comes before it will always be one word that\n",
    "begins with a capital letter. The regex must match the following:\n",
    "&#39;Haruto Watanabe&#39;\n",
    "&#39;Alice Watanabe&#39;\n",
    "&#39;RoboCop Watanabe&#39;\n",
    "but not the following:\n",
    "&#39;haruto Watanabe&#39; (where the first name is not capitalized)\n",
    "&#39;Mr. Watanabe&#39; (where the preceding word has a nonletter character)\n",
    "&#39;Watanabe&#39; (which has no first name)\n",
    "&#39;Haruto watanabe&#39; (where Watanabe is not capitalized)"
   ]
  },
  {
   "cell_type": "markdown",
   "id": "acda1dd4",
   "metadata": {},
   "source": [
    "re.compile(r'[A-Z][a-z]*\\sWatanabe')"
   ]
  },
  {
   "cell_type": "code",
   "execution_count": 40,
   "id": "5b641a7c",
   "metadata": {},
   "outputs": [
    {
     "data": {
      "text/plain": [
       "['Raju Watanabe', 'Kishor Watanabe']"
      ]
     },
     "execution_count": 40,
     "metadata": {},
     "output_type": "execute_result"
    }
   ],
   "source": [
    "text1 = 'Raju Watanabe Kishor Watanabe Mr. Watanabe rohan mail'\n",
    "import re\n",
    "numReg = re.compile(r'[A-Z][a-z]*\\sWatanabe')\n",
    "numReg.findall(text1)"
   ]
  },
  {
   "cell_type": "markdown",
   "id": "27b1d1f1",
   "metadata": {},
   "source": [
    "22. How would you write a regex that matches a sentence where the first word is either Alice, Bob,\n",
    "or Carol; the second word is either eats, pets, or throws; the third word is apples, cats, or baseballs;\n",
    "and the sentence ends with a period? This regex should be case-insensitive. It must match the\n",
    "following:\n",
    "&#39;Alice eats apples.&#39;\n",
    "&#39;Bob pets cats.&#39;\n",
    "&#39;Carol throws baseballs.&#39;\n",
    "&#39;Alice throws Apples.&#39;\n",
    "&#39;BOB EATS CATS.&#39;\n",
    "but not the following:\n",
    "&#39;RoboCop eats apples.&#39;\n",
    "&#39;ALICE THROWS FOOTBALLS.&#39;\n",
    "&#39;Carol eats 7 cats.&#39;"
   ]
  },
  {
   "cell_type": "markdown",
   "id": "68d0dc38",
   "metadata": {},
   "source": [
    " re.compile(r'(Alice|Bob|Carol)\\s(eats|pets|throws)\\s(apples|cats|baseballs)\\.', re.IGNORECASE)"
   ]
  },
  {
   "cell_type": "code",
   "execution_count": null,
   "id": "b6023c03",
   "metadata": {},
   "outputs": [],
   "source": []
  }
 ],
 "metadata": {
  "kernelspec": {
   "display_name": "Python 3 (ipykernel)",
   "language": "python",
   "name": "python3"
  },
  "language_info": {
   "codemirror_mode": {
    "name": "ipython",
    "version": 3
   },
   "file_extension": ".py",
   "mimetype": "text/x-python",
   "name": "python",
   "nbconvert_exporter": "python",
   "pygments_lexer": "ipython3",
   "version": "3.9.12"
  }
 },
 "nbformat": 4,
 "nbformat_minor": 5
}
