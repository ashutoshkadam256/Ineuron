{
 "cells": [
  {
   "cell_type": "code",
   "execution_count": null,
   "id": "2c12dab0",
   "metadata": {},
   "outputs": [],
   "source": [
    "# Questions\n",
    "\"\"\"\n",
    "1. In the below elements which of them are values or an expression? eg:- values can be\n",
    "integer or string and expressions will be mathematical operators.\n",
    "*\n",
    "'hello'\n",
    "-87.8\n",
    "-\n",
    "/\n",
    "+\n",
    "6\n",
    "\n",
    "2. What is the difference between string and variable?\n",
    "\n",
    "3. Describe three different data types.\n",
    "\n",
    "4. What is an expression made up of? What do all expressions do?\n",
    "5. This assignment statements, like spam = 10. What is the difference between an\n",
    "expression and a statement?\n",
    "6. After running the following code, what does the variable bacon contain?\n",
    "bacon = 22\n",
    "bacon + 1\n",
    "\n",
    "7. What should the values of the following two terms be?\n",
    "'spam' + 'spamspam'\n",
    "'spam' * 3\n",
    "\n",
    "8. Why is eggs a valid variable name while 100 is invalid?\n",
    "\n",
    "9. What three functions can be used to get the integer, floating-point number, or string\n",
    "version of a value?\n",
    "10. Why does this expression cause an error? How can you fix it?\n",
    "'I have eaten' + 99 + 'burritos'\n",
    "\"\"\""
   ]
  },
  {
   "cell_type": "code",
   "execution_count": 3,
   "id": "9b9e46e3",
   "metadata": {},
   "outputs": [
    {
     "data": {
      "text/plain": [
       "'Hello'"
      ]
     },
     "execution_count": 3,
     "metadata": {},
     "output_type": "execute_result"
    }
   ],
   "source": [
    "'Hello'"
   ]
  },
  {
   "cell_type": "code",
   "execution_count": 4,
   "id": "477bf3c1",
   "metadata": {},
   "outputs": [
    {
     "data": {
      "text/plain": [
       "-87.8"
      ]
     },
     "execution_count": 4,
     "metadata": {},
     "output_type": "execute_result"
    }
   ],
   "source": [
    "-87.8"
   ]
  },
  {
   "cell_type": "code",
   "execution_count": 5,
   "id": "b7753db1",
   "metadata": {},
   "outputs": [
    {
     "data": {
      "text/plain": [
       "6"
      ]
     },
     "execution_count": 5,
     "metadata": {},
     "output_type": "execute_result"
    }
   ],
   "source": [
    "6"
   ]
  },
  {
   "cell_type": "code",
   "execution_count": 7,
   "id": "bd296ac2",
   "metadata": {},
   "outputs": [],
   "source": [
    "#Ans 1# \n",
    "#'Hello' , -87.8 and 6 are values\n",
    "# * , / , + are expressions of mathematical operators."
   ]
  },
  {
   "cell_type": "code",
   "execution_count": 8,
   "id": "23b75a84",
   "metadata": {},
   "outputs": [],
   "source": [
    "#Ans 2# \n",
    "# string :- sting are immutable object that cancont changed after creted it stores value in \"\" qutos.\n",
    "#            it's type is str e.g \"Hello\"\n",
    "\n",
    "# variable :- It store any type of value.It refers to an pointer to an object.\n",
    "#             e.g var1 = 4 , var2 = \"Hello\""
   ]
  },
  {
   "cell_type": "code",
   "execution_count": null,
   "id": "70ff4499",
   "metadata": {},
   "outputs": [],
   "source": [
    "#Ans 3# \n",
    "# three different data types are\n",
    "\"\"\"\n",
    "     1) Int : - This data type  contain value of only integer. eg 3\n",
    "     2) Float :- This data type  contain value of int as well as float value. eg 4.23 , 3.00\n",
    "     3) String :- This data type  contain value of string that are inside \"\" qutos eg. \"Hello\"\n",
    "     4) Boolean :- This data type  contain value of True or False eg. True\n",
    "\"\"\"\n"
   ]
  },
  {
   "cell_type": "code",
   "execution_count": 12,
   "id": "75197394",
   "metadata": {},
   "outputs": [],
   "source": [
    "#Ans 4# \n",
    "# An expression is made of Operators(*,+,-) and Oprends(23,45,7)\n",
    "# They interpreted to produce some other value\n"
   ]
  },
  {
   "cell_type": "code",
   "execution_count": 13,
   "id": "a7c5738a",
   "metadata": {},
   "outputs": [],
   "source": [
    "#Ans 5# \n",
    "# Statement :- It is an insruction that python interpeter can execute eg. spam = 10\n",
    "# Expression :- It is an combination of Operators and Oprends to interpreted to produce some other value\n",
    "\n",
    "# Statements represent an action or command. \n",
    "#Expression is a combination of variables, operations and values that yields a result value."
   ]
  },
  {
   "cell_type": "code",
   "execution_count": 14,
   "id": "d6f75359",
   "metadata": {},
   "outputs": [
    {
     "data": {
      "text/plain": [
       "23"
      ]
     },
     "execution_count": 14,
     "metadata": {},
     "output_type": "execute_result"
    }
   ],
   "source": [
    "bacon = 22\n",
    "bacon + 1"
   ]
  },
  {
   "cell_type": "code",
   "execution_count": 15,
   "id": "d75ea18d",
   "metadata": {},
   "outputs": [],
   "source": [
    "#Ans 6# \n",
    "# bacon will contain 23"
   ]
  },
  {
   "cell_type": "code",
   "execution_count": 16,
   "id": "771e9f23",
   "metadata": {},
   "outputs": [
    {
     "data": {
      "text/plain": [
       "'spamspamspam'"
      ]
     },
     "execution_count": 16,
     "metadata": {},
     "output_type": "execute_result"
    }
   ],
   "source": [
    "'spam' + 'spamspam'"
   ]
  },
  {
   "cell_type": "code",
   "execution_count": 17,
   "id": "d819d2eb",
   "metadata": {},
   "outputs": [
    {
     "data": {
      "text/plain": [
       "'spamspamspam'"
      ]
     },
     "execution_count": 17,
     "metadata": {},
     "output_type": "execute_result"
    }
   ],
   "source": [
    "'spam' * 3"
   ]
  },
  {
   "cell_type": "code",
   "execution_count": 18,
   "id": "7ba07055",
   "metadata": {},
   "outputs": [],
   "source": [
    "#Ans 7# \n",
    "#Output of the 'spam' + 'spamspam' and 'spam' * 3  expression will be same 'spamspamspam'"
   ]
  },
  {
   "cell_type": "code",
   "execution_count": 19,
   "id": "4a6eed92",
   "metadata": {},
   "outputs": [],
   "source": [
    "eggs = 10"
   ]
  },
  {
   "cell_type": "code",
   "execution_count": 20,
   "id": "5a4ac7de",
   "metadata": {},
   "outputs": [
    {
     "ename": "SyntaxError",
     "evalue": "cannot assign to literal (3161349222.py, line 1)",
     "output_type": "error",
     "traceback": [
      "\u001b[1;36m  Cell \u001b[1;32mIn [20], line 1\u001b[1;36m\u001b[0m\n\u001b[1;33m    100 = \"ghar\"\u001b[0m\n\u001b[1;37m    ^\u001b[0m\n\u001b[1;31mSyntaxError\u001b[0m\u001b[1;31m:\u001b[0m cannot assign to literal\n"
     ]
    }
   ],
   "source": [
    "100 = \"ghar\""
   ]
  },
  {
   "cell_type": "code",
   "execution_count": null,
   "id": "412d3596",
   "metadata": {},
   "outputs": [],
   "source": [
    "#Ans 8# \n",
    "\"\"\"\n",
    "eggs is valid variable name and 100 is not because while creating varible we should consider following rules\n",
    "1) first letter of variable should be alphabet or _ (_ will create hidden variable)\n",
    "2) first letter should not contain special charachter e.g @\n",
    "3) there should be no space between variable\n",
    "\"\"\"\n"
   ]
  },
  {
   "cell_type": "code",
   "execution_count": 22,
   "id": "1176444e",
   "metadata": {},
   "outputs": [],
   "source": [
    "#Ans 9# \n",
    "# int() function to get integer\n",
    "# float() function to get float\n",
    "# Str() function to get string"
   ]
  },
  {
   "cell_type": "code",
   "execution_count": 23,
   "id": "a46b8c43",
   "metadata": {},
   "outputs": [],
   "source": [
    "a = '9'\n",
    "b = '12.56'\n",
    "c = 89"
   ]
  },
  {
   "cell_type": "code",
   "execution_count": 24,
   "id": "32725143",
   "metadata": {},
   "outputs": [
    {
     "name": "stdout",
     "output_type": "stream",
     "text": [
      "<class 'str'>\n",
      "<class 'str'>\n",
      "<class 'int'>\n"
     ]
    }
   ],
   "source": [
    "print(type(a))\n",
    "print(type(b))\n",
    "print(type(c))"
   ]
  },
  {
   "cell_type": "code",
   "execution_count": 25,
   "id": "f39647f9",
   "metadata": {},
   "outputs": [],
   "source": [
    "a = int(a)\n",
    "b = float(b)\n",
    "c = str(c)"
   ]
  },
  {
   "cell_type": "code",
   "execution_count": 26,
   "id": "f7c99af3",
   "metadata": {},
   "outputs": [
    {
     "name": "stdout",
     "output_type": "stream",
     "text": [
      "<class 'int'>\n",
      "<class 'float'>\n",
      "<class 'str'>\n"
     ]
    }
   ],
   "source": [
    "print(type(a))\n",
    "print(type(b))\n",
    "print(type(c))"
   ]
  },
  {
   "cell_type": "code",
   "execution_count": 27,
   "id": "3a9aa008",
   "metadata": {},
   "outputs": [
    {
     "ename": "TypeError",
     "evalue": "can only concatenate str (not \"int\") to str",
     "output_type": "error",
     "traceback": [
      "\u001b[1;31m---------------------------------------------------------------------------\u001b[0m",
      "\u001b[1;31mTypeError\u001b[0m                                 Traceback (most recent call last)",
      "Cell \u001b[1;32mIn [27], line 1\u001b[0m\n\u001b[1;32m----> 1\u001b[0m \u001b[38;5;124;43m'\u001b[39;49m\u001b[38;5;124;43mI have eaten\u001b[39;49m\u001b[38;5;124;43m'\u001b[39;49m\u001b[43m \u001b[49m\u001b[38;5;241;43m+\u001b[39;49m\u001b[43m \u001b[49m\u001b[38;5;241;43m99\u001b[39;49m \u001b[38;5;241m+\u001b[39m \u001b[38;5;124m'\u001b[39m\u001b[38;5;124mburritos\u001b[39m\u001b[38;5;124m'\u001b[39m\n",
      "\u001b[1;31mTypeError\u001b[0m: can only concatenate str (not \"int\") to str"
     ]
    }
   ],
   "source": [
    "'I have eaten' + 99 + 'burritos'"
   ]
  },
  {
   "cell_type": "code",
   "execution_count": 28,
   "id": "cd400364",
   "metadata": {},
   "outputs": [],
   "source": [
    "#Ans 10# \n",
    "\n",
    "#We can only concatenate str not int\n",
    "#we can use str() function to convert 99 to string"
   ]
  },
  {
   "cell_type": "code",
   "execution_count": 29,
   "id": "76ebdc54",
   "metadata": {},
   "outputs": [
    {
     "data": {
      "text/plain": [
       "'I have eaten99burritos'"
      ]
     },
     "execution_count": 29,
     "metadata": {},
     "output_type": "execute_result"
    }
   ],
   "source": [
    "'I have eaten' + str(99) + 'burritos'"
   ]
  },
  {
   "cell_type": "code",
   "execution_count": 33,
   "id": "87faa389",
   "metadata": {},
   "outputs": [
    {
     "data": {
      "text/plain": [
       "'C:\\\\Users\\\\hp\\\\miniconda3\\\\Python Programme'"
      ]
     },
     "execution_count": 33,
     "metadata": {},
     "output_type": "execute_result"
    }
   ],
   "source": [
    "pwd"
   ]
  },
  {
   "cell_type": "code",
   "execution_count": null,
   "id": "366d92f9",
   "metadata": {},
   "outputs": [],
   "source": []
  }
 ],
 "metadata": {
  "kernelspec": {
   "display_name": "Python 3 (ipykernel)",
   "language": "python",
   "name": "python3"
  },
  "language_info": {
   "codemirror_mode": {
    "name": "ipython",
    "version": 3
   },
   "file_extension": ".py",
   "mimetype": "text/x-python",
   "name": "python",
   "nbconvert_exporter": "python",
   "pygments_lexer": "ipython3",
   "version": "3.9.12"
  }
 },
 "nbformat": 4,
 "nbformat_minor": 5
}
