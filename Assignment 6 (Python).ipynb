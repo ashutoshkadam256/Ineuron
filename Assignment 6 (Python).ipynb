{
 "cells": [
  {
   "cell_type": "markdown",
   "id": "b5823142",
   "metadata": {},
   "source": [
    "1. What are escape characters, and how do you use them?"
   ]
  },
  {
   "cell_type": "markdown",
   "id": "8bb2e1e6",
   "metadata": {},
   "source": [
    "The escape character allows you to use double quotes when you normally would not be allowed"
   ]
  },
  {
   "cell_type": "code",
   "execution_count": 3,
   "id": "7b96917e",
   "metadata": {},
   "outputs": [],
   "source": [
    "txt = \"My name is \\\"Ashutosh\\\" \""
   ]
  },
  {
   "cell_type": "code",
   "execution_count": 4,
   "id": "1f36ea8c",
   "metadata": {},
   "outputs": [
    {
     "data": {
      "text/plain": [
       "'My name is \"Ashutosh\" '"
      ]
     },
     "execution_count": 4,
     "metadata": {},
     "output_type": "execute_result"
    }
   ],
   "source": [
    "txt"
   ]
  },
  {
   "cell_type": "markdown",
   "id": "dd4d94d8",
   "metadata": {},
   "source": [
    "What do the escape characters n and t stand for?"
   ]
  },
  {
   "cell_type": "markdown",
   "id": "0fed6822",
   "metadata": {},
   "source": [
    "n is stand for new line and t for tab"
   ]
  },
  {
   "cell_type": "markdown",
   "id": "f943aaac",
   "metadata": {},
   "source": [
    "3. What is the way to include backslash characters in a string?"
   ]
  },
  {
   "cell_type": "markdown",
   "id": "4d8d7c54",
   "metadata": {},
   "source": [
    "If you want to include a backslash character itself, you need two backslashes or use the @"
   ]
  },
  {
   "cell_type": "code",
   "execution_count": 18,
   "id": "73ec27e4",
   "metadata": {},
   "outputs": [],
   "source": [
    "txt = \"This will insert one \\\\ (backslash).\""
   ]
  },
  {
   "cell_type": "code",
   "execution_count": 23,
   "id": "1aebe62c",
   "metadata": {},
   "outputs": [
    {
     "data": {
      "text/plain": [
       "'This will insert one \\\\ (backslash).'"
      ]
     },
     "execution_count": 23,
     "metadata": {},
     "output_type": "execute_result"
    }
   ],
   "source": [
    "txt"
   ]
  },
  {
   "cell_type": "code",
   "execution_count": 24,
   "id": "79fe2079",
   "metadata": {},
   "outputs": [
    {
     "name": "stdout",
     "output_type": "stream",
     "text": [
      "This will insert one \\ (backslash).\n"
     ]
    }
   ],
   "source": [
    "print(txt) "
   ]
  },
  {
   "cell_type": "markdown",
   "id": "516ab07e",
   "metadata": {},
   "source": [
    "4. The string &quot;Howl&#39;s Moving Castle&quot; is a correct value. Why isn&#39;t the single quote character in the\n",
    "word Howl&#39;s not escaped a problem?"
   ]
  },
  {
   "cell_type": "code",
   "execution_count": 25,
   "id": "fff1f69a",
   "metadata": {},
   "outputs": [],
   "source": [
    "txt = \"Howl's Moving Castle\""
   ]
  },
  {
   "cell_type": "code",
   "execution_count": 26,
   "id": "a7667b90",
   "metadata": {},
   "outputs": [
    {
     "name": "stdout",
     "output_type": "stream",
     "text": [
      "Howl's Moving Castle\n"
     ]
    }
   ],
   "source": [
    "print(txt)"
   ]
  },
  {
   "cell_type": "markdown",
   "id": "09f090a8",
   "metadata": {},
   "source": [
    "The single quote in Howl's is fine because you've used double quotes to mark the beginning and end of the string."
   ]
  },
  {
   "cell_type": "markdown",
   "id": "cfacae68",
   "metadata": {},
   "source": [
    "5. How do you write a string of newlines if you don&#39;t want to use the n character?"
   ]
  },
  {
   "cell_type": "code",
   "execution_count": 29,
   "id": "4911684f",
   "metadata": {},
   "outputs": [
    {
     "name": "stdout",
     "output_type": "stream",
     "text": [
      "Hello\n",
      "World!\n"
     ]
    }
   ],
   "source": [
    "print(f\"Hello\\nWorld!\")"
   ]
  },
  {
   "cell_type": "code",
   "execution_count": 32,
   "id": "ea8ea194",
   "metadata": {},
   "outputs": [
    {
     "name": "stdout",
     "output_type": "stream",
     "text": [
      "Hello World\n"
     ]
    }
   ],
   "source": [
    "print(\"Hello\",end= \" \")\n",
    "print(\"World\")"
   ]
  },
  {
   "cell_type": "markdown",
   "id": "a2de43ff",
   "metadata": {},
   "source": [
    "6. What are the values of the given expressions?\n",
    "&#39;Hello, world!&#39;[1]\n",
    "&#39;Hello, world!&#39;[0:5]\n",
    "&#39;Hello, world!&#39;[:5]\n",
    "&#39;Hello, world!&#39;[3:]"
   ]
  },
  {
   "cell_type": "code",
   "execution_count": 33,
   "id": "7642e49a",
   "metadata": {},
   "outputs": [
    {
     "data": {
      "text/plain": [
       "'e'"
      ]
     },
     "execution_count": 33,
     "metadata": {},
     "output_type": "execute_result"
    }
   ],
   "source": [
    "'Hello, world!'[1]"
   ]
  },
  {
   "cell_type": "code",
   "execution_count": 34,
   "id": "99f7ee4c",
   "metadata": {},
   "outputs": [
    {
     "data": {
      "text/plain": [
       "'Hello'"
      ]
     },
     "execution_count": 34,
     "metadata": {},
     "output_type": "execute_result"
    }
   ],
   "source": [
    "'Hello, world!'[0:5]"
   ]
  },
  {
   "cell_type": "code",
   "execution_count": 35,
   "id": "df1fdc49",
   "metadata": {},
   "outputs": [
    {
     "data": {
      "text/plain": [
       "'Hello'"
      ]
     },
     "execution_count": 35,
     "metadata": {},
     "output_type": "execute_result"
    }
   ],
   "source": [
    "'Hello, world!'[:5]"
   ]
  },
  {
   "cell_type": "code",
   "execution_count": 37,
   "id": "5fc234cd",
   "metadata": {},
   "outputs": [
    {
     "data": {
      "text/plain": [
       "'lo, world!'"
      ]
     },
     "execution_count": 37,
     "metadata": {},
     "output_type": "execute_result"
    }
   ],
   "source": [
    "'Hello, world!'[3:]"
   ]
  },
  {
   "cell_type": "markdown",
   "id": "9f7e812f",
   "metadata": {},
   "source": [
    "7. What are the values of the following expressions?"
   ]
  },
  {
   "cell_type": "code",
   "execution_count": 38,
   "id": "f6bae98b",
   "metadata": {},
   "outputs": [
    {
     "data": {
      "text/plain": [
       "'HELLO'"
      ]
     },
     "execution_count": 38,
     "metadata": {},
     "output_type": "execute_result"
    }
   ],
   "source": [
    "'Hello'.upper()"
   ]
  },
  {
   "cell_type": "code",
   "execution_count": 39,
   "id": "ff8013b1",
   "metadata": {},
   "outputs": [
    {
     "data": {
      "text/plain": [
       "True"
      ]
     },
     "execution_count": 39,
     "metadata": {},
     "output_type": "execute_result"
    }
   ],
   "source": [
    "'Hello'.upper().isupper()"
   ]
  },
  {
   "cell_type": "code",
   "execution_count": 40,
   "id": "31f4a038",
   "metadata": {},
   "outputs": [
    {
     "data": {
      "text/plain": [
       "'hello'"
      ]
     },
     "execution_count": 40,
     "metadata": {},
     "output_type": "execute_result"
    }
   ],
   "source": [
    "'Hello'.upper().lower()"
   ]
  },
  {
   "cell_type": "markdown",
   "id": "2d5ed5fc",
   "metadata": {},
   "source": [
    "8. What are the values of the following expressions?\n",
    "&#39;Remember, remember, the fifth of July.&#39;.split()\n",
    "&#39;-&#39;.join(&#39;There can only one.&#39;.split())"
   ]
  },
  {
   "cell_type": "code",
   "execution_count": 43,
   "id": "82f2eaef",
   "metadata": {},
   "outputs": [
    {
     "data": {
      "text/plain": [
       "['Remember,', 'remember,', 'the', 'fifth', 'of', 'July.']"
      ]
     },
     "execution_count": 43,
     "metadata": {},
     "output_type": "execute_result"
    }
   ],
   "source": [
    "'Remember, remember, the fifth of July.'.split()"
   ]
  },
  {
   "cell_type": "code",
   "execution_count": 44,
   "id": "815de02c",
   "metadata": {},
   "outputs": [
    {
     "data": {
      "text/plain": [
       "'There-can-only-one.'"
      ]
     },
     "execution_count": 44,
     "metadata": {},
     "output_type": "execute_result"
    }
   ],
   "source": [
    "'-'.join('There can only one.'.split())"
   ]
  },
  {
   "cell_type": "code",
   "execution_count": 45,
   "id": "e78765a3",
   "metadata": {},
   "outputs": [
    {
     "data": {
      "text/plain": [
       "['Remember', ' remember', ' the fifth of July.']"
      ]
     },
     "execution_count": 45,
     "metadata": {},
     "output_type": "execute_result"
    }
   ],
   "source": [
    "'Remember, remember, the fifth of July.'.split(',')"
   ]
  },
  {
   "cell_type": "markdown",
   "id": "32c4ea35",
   "metadata": {},
   "source": [
    "9. What are the methods for right-justifying, left-justifying, and centering a string?"
   ]
  },
  {
   "cell_type": "markdown",
   "id": "59446f45",
   "metadata": {},
   "source": [
    "1) right-justifying str.rjust(s, width[, fillchar])\n",
    "\n",
    "2) left-justifying str.ljust(s, width[, fillchar])\n",
    "\n",
    "3) centering a string str.center(s, width[, fillchar])"
   ]
  },
  {
   "cell_type": "code",
   "execution_count": 46,
   "id": "3416e788",
   "metadata": {},
   "outputs": [],
   "source": [
    "txt = 'Print hello world'"
   ]
  },
  {
   "cell_type": "code",
   "execution_count": 47,
   "id": "f0e138c0",
   "metadata": {},
   "outputs": [
    {
     "data": {
      "text/plain": [
       "'                       Print hello world'"
      ]
     },
     "execution_count": 47,
     "metadata": {},
     "output_type": "execute_result"
    }
   ],
   "source": [
    "txt.rjust(40)"
   ]
  },
  {
   "cell_type": "code",
   "execution_count": 48,
   "id": "b13012cc",
   "metadata": {},
   "outputs": [
    {
     "data": {
      "text/plain": [
       "'Print hello world                       '"
      ]
     },
     "execution_count": 48,
     "metadata": {},
     "output_type": "execute_result"
    }
   ],
   "source": [
    "txt.ljust(40)"
   ]
  },
  {
   "cell_type": "code",
   "execution_count": 49,
   "id": "dff1e8f4",
   "metadata": {},
   "outputs": [
    {
     "data": {
      "text/plain": [
       "'           Print hello world            '"
      ]
     },
     "execution_count": 49,
     "metadata": {},
     "output_type": "execute_result"
    }
   ],
   "source": [
    "txt.center(40)"
   ]
  },
  {
   "cell_type": "markdown",
   "id": "1fb05bea",
   "metadata": {},
   "source": [
    "10. What is the best way to remove whitespace characters from the start or end?"
   ]
  },
  {
   "cell_type": "markdown",
   "id": "7dd2c445",
   "metadata": {},
   "source": [
    "1) lstrip() to remove left space \n",
    "\n",
    "2) rstrip() to remove right space \n",
    "\n",
    "3) strip() remove all space"
   ]
  },
  {
   "cell_type": "code",
   "execution_count": 50,
   "id": "1fe6203b",
   "metadata": {},
   "outputs": [],
   "source": [
    "txt = '   Hello   '"
   ]
  },
  {
   "cell_type": "code",
   "execution_count": 51,
   "id": "1b52556e",
   "metadata": {},
   "outputs": [
    {
     "data": {
      "text/plain": [
       "'Hello   '"
      ]
     },
     "execution_count": 51,
     "metadata": {},
     "output_type": "execute_result"
    }
   ],
   "source": [
    "txt.lstrip()"
   ]
  },
  {
   "cell_type": "code",
   "execution_count": 52,
   "id": "fd241a7a",
   "metadata": {},
   "outputs": [
    {
     "data": {
      "text/plain": [
       "'   Hello'"
      ]
     },
     "execution_count": 52,
     "metadata": {},
     "output_type": "execute_result"
    }
   ],
   "source": [
    "txt.rstrip()"
   ]
  },
  {
   "cell_type": "code",
   "execution_count": 53,
   "id": "8cee858d",
   "metadata": {},
   "outputs": [
    {
     "data": {
      "text/plain": [
       "'Hello'"
      ]
     },
     "execution_count": 53,
     "metadata": {},
     "output_type": "execute_result"
    }
   ],
   "source": [
    "txt.strip()"
   ]
  },
  {
   "cell_type": "code",
   "execution_count": null,
   "id": "16bda380",
   "metadata": {},
   "outputs": [],
   "source": []
  }
 ],
 "metadata": {
  "kernelspec": {
   "display_name": "Python 3 (ipykernel)",
   "language": "python",
   "name": "python3"
  },
  "language_info": {
   "codemirror_mode": {
    "name": "ipython",
    "version": 3
   },
   "file_extension": ".py",
   "mimetype": "text/x-python",
   "name": "python",
   "nbconvert_exporter": "python",
   "pygments_lexer": "ipython3",
   "version": "3.9.12"
  }
 },
 "nbformat": 4,
 "nbformat_minor": 5
}
