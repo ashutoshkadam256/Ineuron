{
 "cells": [
  {
   "cell_type": "markdown",
   "id": "d6978904",
   "metadata": {},
   "source": [
    "1. To what does a relative path refer?\n",
    "2. What does an absolute path start with your operating system?\n",
    "3. What do the functions os.getcwd() and os.chdir() do?\n",
    "4. What are the . and .. folders?\n",
    "5. In C:\\bacon\\eggs\\spam.txt, which part is the dir name, and which part is the base name?\n",
    "6. What are the three “mode” arguments that can be passed to the open() function?\n",
    "7. What happens if an existing file is opened in write mode?\n",
    "8. How do you tell the difference between read() and readlines()?\n",
    "9. What data structure does a shelf value resemble?"
   ]
  },
  {
   "cell_type": "markdown",
   "id": "cee3b384",
   "metadata": {},
   "source": [
    "Ans1 :- Relative paths are relative to the current working directory."
   ]
  },
  {
   "cell_type": "markdown",
   "id": "5c9fce68",
   "metadata": {},
   "source": [
    "Ans2 :- An absolute path always begins from the absolute start of your hard drive and describes every step you must take through the filesystem to end up at the target location."
   ]
  },
  {
   "cell_type": "markdown",
   "id": "143cf1d1",
   "metadata": {},
   "source": [
    "example :- /usr/share/widgets/button  absolute path\n",
    "           ../wigets/key              relative path"
   ]
  },
  {
   "cell_type": "markdown",
   "id": "0eb50c26",
   "metadata": {},
   "source": [
    "Ans3 :- The os.getcwd() function returns the current working directory. The os.chdir() function changes the current working directory."
   ]
  },
  {
   "cell_type": "code",
   "execution_count": 6,
   "id": "56b885db",
   "metadata": {},
   "outputs": [],
   "source": [
    "import os, sys\n",
    "cwd = os.getcwd()"
   ]
  },
  {
   "cell_type": "code",
   "execution_count": 7,
   "id": "f115f49e",
   "metadata": {},
   "outputs": [
    {
     "data": {
      "text/plain": [
       "'C:\\\\Users\\\\hp\\\\miniconda3\\\\Python Programme'"
      ]
     },
     "execution_count": 7,
     "metadata": {},
     "output_type": "execute_result"
    }
   ],
   "source": [
    "cwd"
   ]
  },
  {
   "cell_type": "markdown",
   "id": "451608bc",
   "metadata": {},
   "source": [
    "Ans4 :- The . folder is the current folder, and .. is the parent folder."
   ]
  },
  {
   "cell_type": "markdown",
   "id": "f8252b43",
   "metadata": {},
   "source": [
    "Ans5:- C:\\bacon\\eggs is the dir name, while spam.txt is the base name."
   ]
  },
  {
   "cell_type": "markdown",
   "id": "8d55f284",
   "metadata": {},
   "source": [
    "Ans 6:- The string 'r' for read mode, 'w' for write mode, and 'a' for append mode"
   ]
  },
  {
   "cell_type": "code",
   "execution_count": 8,
   "id": "b99e1203",
   "metadata": {},
   "outputs": [],
   "source": [
    "# Open a file\n",
    "fo = open(\"Test.txt\", \"w+\")\n",
    "fo.write( \"Python is a great language.\\nYeah its great!!\\n\")\n",
    "\n",
    "# Close opend file\n",
    "fo.close()"
   ]
  },
  {
   "cell_type": "code",
   "execution_count": 11,
   "id": "5e8bef7e",
   "metadata": {},
   "outputs": [
    {
     "name": "stdout",
     "output_type": "stream",
     "text": [
      "Read String is :  Python is a great language.\n",
      "Yeah its great!!\n",
      "\n"
     ]
    }
   ],
   "source": [
    "# Open a file\n",
    "fo = open(\"Test.txt\", \"r+\")\n",
    "str = fo.read(100);\n",
    "print (\"Read String is : \", str)\n",
    "# Close opend file\n",
    "fo.close()"
   ]
  },
  {
   "cell_type": "code",
   "execution_count": 13,
   "id": "f9903b19",
   "metadata": {},
   "outputs": [],
   "source": [
    "# Open  a file\n",
    "fo = open(\"Test.txt\",\"a+\")\n",
    "fo.write(\"\\n Hello this is appende text\")\n",
    "\n",
    "#close open file\n",
    "fo.close()"
   ]
  },
  {
   "cell_type": "code",
   "execution_count": 15,
   "id": "a8383471",
   "metadata": {},
   "outputs": [
    {
     "name": "stdout",
     "output_type": "stream",
     "text": [
      "Read String is :  Python is a great language.\n",
      "Yeah its great!!\n",
      "\n",
      " Hello this is appende text\n"
     ]
    }
   ],
   "source": [
    "# Open a file\n",
    "fo = open(\"Test.txt\", \"r+\")\n",
    "str = fo.read();\n",
    "print (\"Read String is : \", str)\n",
    "# Close opend file\n",
    "fo.close()"
   ]
  },
  {
   "cell_type": "markdown",
   "id": "d6d9b183",
   "metadata": {},
   "source": [
    "Ans 7 :- An existing file opened in write mode is erased and completely overwritten."
   ]
  },
  {
   "cell_type": "code",
   "execution_count": 16,
   "id": "138936ee",
   "metadata": {},
   "outputs": [],
   "source": [
    "# Open a file\n",
    "fo = open(\"Test.txt\", \"w+\")\n",
    "fo.write( \"erased and completely overwritten\")\n",
    "\n",
    "# Close opend file\n",
    "fo.close()"
   ]
  },
  {
   "cell_type": "code",
   "execution_count": 17,
   "id": "6ce9b25f",
   "metadata": {},
   "outputs": [
    {
     "name": "stdout",
     "output_type": "stream",
     "text": [
      "Read String is :  erased and completely overwritten\n"
     ]
    }
   ],
   "source": [
    "# Open a file\n",
    "fo = open(\"Test.txt\", \"r+\")\n",
    "str = fo.read();\n",
    "print (\"Read String is : \", str)\n",
    "# Close opend file\n",
    "fo.close()"
   ]
  },
  {
   "cell_type": "markdown",
   "id": "274e7b40",
   "metadata": {},
   "source": [
    "Ans 8 :- The read method reads the entire contents of a file and returns it as a string.\n",
    "         The readline method reads a single line from a file and returns it as a string, while the     readlines method reads the entire contents of a file and returns it as a list of strings, where each element of the list is a single line of the file."
   ]
  },
  {
   "cell_type": "markdown",
   "id": "7ea63729",
   "metadata": {},
   "source": [
    "Ans 9:- A shelf value resembles a dictionary value; it has keys and values, along with keys() and values() methods that work similarly to the dictionary methods of the same names."
   ]
  },
  {
   "cell_type": "code",
   "execution_count": null,
   "id": "eb0d0d93",
   "metadata": {},
   "outputs": [],
   "source": []
  }
 ],
 "metadata": {
  "kernelspec": {
   "display_name": "Python 3 (ipykernel)",
   "language": "python",
   "name": "python3"
  },
  "language_info": {
   "codemirror_mode": {
    "name": "ipython",
    "version": 3
   },
   "file_extension": ".py",
   "mimetype": "text/x-python",
   "name": "python",
   "nbconvert_exporter": "python",
   "pygments_lexer": "ipython3",
   "version": "3.9.12"
  }
 },
 "nbformat": 4,
 "nbformat_minor": 5
}
