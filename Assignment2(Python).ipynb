{
 "cells": [
  {
   "cell_type": "code",
   "execution_count": null,
   "id": "b91a8c6f",
   "metadata": {},
   "outputs": [],
   "source": [
    "\"\"\"\n",
    "1.What are the two values of the Boolean data type? How do you write them?\n",
    "2. What are the three different types of Boolean operators?\n",
    "3. Make a list of each Boolean operator&#39;s truth tables (i.e. every possible combination of Boolean\n",
    "values for the operator and what it evaluate ).\n",
    "4. What are the values of the following expressions?\n",
    "(5 > 4) and (3 == 5)\n",
    "not (5 > 4)\n",
    "(5 > 4) or (3 == 5)\n",
    "not ((5 > 4) or (3 == 5))\n",
    "(True and True) and (True == False)\n",
    "(not False) or (not True)\n",
    "5. What are the six comparison operators?\n",
    "6. How do you tell the difference between the equal to and assignment operators?Describe a\n",
    "condition and when you would use one.\n",
    "7. Identify the three blocks in this code:\n",
    "spam = 0\n",
    "if spam == 10:\n",
    "print('eggs')\n",
    "if spam > 5:\n",
    "print('bacon')\n",
    "else:\n",
    "print('ham')\n",
    "print('spam')\n",
    "print('spam)\n",
    "8. Write code that prints Hello if 1 is stored in spam, prints Howdy if 2 is stored in spam, and prints\n",
    "Greetings! if anything else is stored in spam.\n",
    "\n",
    "9.If your programme is stuck in an endless loop, what keys you’ll press?\n",
    "10. How can you tell the difference between break and continue?\n",
    "11. In a for loop, what is the difference between range(10), range(0, 10), and range(0, 10, 1)?\n",
    "12. Write a short program that prints the numbers 1 to 10 using a for loop. Then write an equivalent\n",
    "program that prints the numbers 1 to 10 using a while loop.\n",
    "13. If you had a function named bacon() inside a module named spam, how would you call it after\n",
    "importing spam?\n",
    "\"\"\""
   ]
  },
  {
   "cell_type": "code",
   "execution_count": 1,
   "id": "98d53a9d",
   "metadata": {},
   "outputs": [],
   "source": [
    "##Ans 1##\n",
    "\n",
    "# Values of boolean data types are True and False , e.g a = True "
   ]
  },
  {
   "cell_type": "code",
   "execution_count": null,
   "id": "bde8bf39",
   "metadata": {},
   "outputs": [],
   "source": [
    "##Ans 2##\n",
    "\n",
    "# Three Different types of Boolean operators are AND OR NOT\n",
    "\n",
    "##Ans 3##\n",
    "\"\"\"\n",
    "TRUE OR TRUE   = True\n",
    "FALSE OR FALSE  = False\n",
    "TRUE OR FALSE  = True\n",
    "FALSE OR TRUE   = True\n",
    "\n",
    "TRUE and TRUE  = True\n",
    "FALSE and FALSE =False\n",
    "TRUE and FALSE = False\n",
    "FALSE and TRUE = False\n",
    "\n",
    "not False = True\n",
    "not True = True\n",
    "\"\"\"\n"
   ]
  },
  {
   "cell_type": "code",
   "execution_count": null,
   "id": "85e71482",
   "metadata": {},
   "outputs": [],
   "source": [
    "##Ans 4##\n",
    "\"\"\"\n",
    "(5 > 4) and (3 == 5)      --> False\n",
    "not (5 > 4)               --> False\n",
    "(5 > 4) or (3 == 5)       --> True\n",
    "not ((5 > 4) or (3 == 5))  --> False\n",
    "(True and True) and (True == False)   --> False\n",
    "(not False) or (not True)   -->True\n",
    "\"\"\"\n"
   ]
  },
  {
   "cell_type": "code",
   "execution_count": 3,
   "id": "e8153ab9",
   "metadata": {},
   "outputs": [
    {
     "data": {
      "text/plain": [
       "False"
      ]
     },
     "execution_count": 3,
     "metadata": {},
     "output_type": "execute_result"
    }
   ],
   "source": [
    "(5 > 4) and (3 == 5)"
   ]
  },
  {
   "cell_type": "code",
   "execution_count": 4,
   "id": "5378539d",
   "metadata": {},
   "outputs": [
    {
     "data": {
      "text/plain": [
       "False"
      ]
     },
     "execution_count": 4,
     "metadata": {},
     "output_type": "execute_result"
    }
   ],
   "source": [
    "not (5 > 4)"
   ]
  },
  {
   "cell_type": "code",
   "execution_count": 5,
   "id": "abe01ec7",
   "metadata": {},
   "outputs": [
    {
     "data": {
      "text/plain": [
       "True"
      ]
     },
     "execution_count": 5,
     "metadata": {},
     "output_type": "execute_result"
    }
   ],
   "source": [
    "(5 > 4) or (3 == 5) "
   ]
  },
  {
   "cell_type": "code",
   "execution_count": 6,
   "id": "4da2db0a",
   "metadata": {},
   "outputs": [
    {
     "data": {
      "text/plain": [
       "False"
      ]
     },
     "execution_count": 6,
     "metadata": {},
     "output_type": "execute_result"
    }
   ],
   "source": [
    "not ((5 > 4) or (3 == 5))"
   ]
  },
  {
   "cell_type": "code",
   "execution_count": 7,
   "id": "afbae8b6",
   "metadata": {},
   "outputs": [
    {
     "data": {
      "text/plain": [
       "False"
      ]
     },
     "execution_count": 7,
     "metadata": {},
     "output_type": "execute_result"
    }
   ],
   "source": [
    "(True and True) and (True == False)"
   ]
  },
  {
   "cell_type": "code",
   "execution_count": 8,
   "id": "87650d2d",
   "metadata": {},
   "outputs": [
    {
     "data": {
      "text/plain": [
       "True"
      ]
     },
     "execution_count": 8,
     "metadata": {},
     "output_type": "execute_result"
    }
   ],
   "source": [
    "(not False) or (not True)"
   ]
  },
  {
   "cell_type": "code",
   "execution_count": null,
   "id": "67d01e41",
   "metadata": {},
   "outputs": [],
   "source": [
    "##Ans 5##\n",
    "# six comparison operators are\n",
    "\"\"\"\n",
    "> greater than \n",
    "< less than\n",
    ">= greater than and equals to\n",
    "<= less than and equals to \n",
    "== equals to\n",
    "!= not equals to\n",
    "\"\"\"\n"
   ]
  },
  {
   "cell_type": "code",
   "execution_count": null,
   "id": "c45d4566",
   "metadata": {},
   "outputs": [],
   "source": [
    "##Ans 6##\n",
    "\"\"\"\n",
    " when you want to compare two objets then use. It case sensitive == e.g. 'India' == 'india'\n",
    " and when you want to assign value then use . It also case sensitive= e.g. a = 'India'\n",
    "\"\"\"\n",
    "\n"
   ]
  },
  {
   "cell_type": "code",
   "execution_count": 9,
   "id": "6d6e4f9c",
   "metadata": {},
   "outputs": [
    {
     "data": {
      "text/plain": [
       "False"
      ]
     },
     "execution_count": 9,
     "metadata": {},
     "output_type": "execute_result"
    }
   ],
   "source": [
    "'India' == 'india'"
   ]
  },
  {
   "cell_type": "code",
   "execution_count": 10,
   "id": "faa786b2",
   "metadata": {},
   "outputs": [
    {
     "data": {
      "text/plain": [
       "True"
      ]
     },
     "execution_count": 10,
     "metadata": {},
     "output_type": "execute_result"
    }
   ],
   "source": [
    "'India' == 'India'"
   ]
  },
  {
   "cell_type": "code",
   "execution_count": 11,
   "id": "96cc14e3",
   "metadata": {},
   "outputs": [],
   "source": [
    "a = 'India'"
   ]
  },
  {
   "cell_type": "code",
   "execution_count": 12,
   "id": "4abd3b63",
   "metadata": {},
   "outputs": [
    {
     "data": {
      "text/plain": [
       "'India'"
      ]
     },
     "execution_count": 12,
     "metadata": {},
     "output_type": "execute_result"
    }
   ],
   "source": [
    "a"
   ]
  },
  {
   "cell_type": "code",
   "execution_count": null,
   "id": "7f6b20ee",
   "metadata": {},
   "outputs": [],
   "source": [
    "##Ans 7##\n",
    "\"\"\"\n",
    "Output will be :- \n",
    "ham\n",
    "spam\n",
    "spam\n",
    "\"\"\""
   ]
  },
  {
   "cell_type": "code",
   "execution_count": 15,
   "id": "4f2aec85",
   "metadata": {},
   "outputs": [
    {
     "name": "stdout",
     "output_type": "stream",
     "text": [
      "ham\n",
      "spam\n",
      "spam\n"
     ]
    }
   ],
   "source": [
    "spam = 0\n",
    "if spam == 10:\n",
    "    print('eggs')\n",
    "if spam > 5:\n",
    "    print('bacon')\n",
    "else:\n",
    "    print('ham')\n",
    "    print('spam')\n",
    "    print('spam')"
   ]
  },
  {
   "cell_type": "code",
   "execution_count": 29,
   "id": "ceb4fe7a",
   "metadata": {},
   "outputs": [
    {
     "name": "stdout",
     "output_type": "stream",
     "text": [
      "2\n",
      "Howdy\n"
     ]
    }
   ],
   "source": [
    "##Ans 8##\n",
    "\n",
    "spam = input()\n",
    "if spam == 'Hello':\n",
    "    print(1)\n",
    "elif spam == '2':\n",
    "    print('Howdy')\n",
    "else:\n",
    "    print('Greetings!')"
   ]
  },
  {
   "cell_type": "code",
   "execution_count": null,
   "id": "dc93129f",
   "metadata": {},
   "outputs": [],
   "source": [
    "##Ans 9##\n",
    "\n",
    "# we need to press black square key name as interrupt the kernal\n",
    "# which stop endless loop"
   ]
  },
  {
   "cell_type": "code",
   "execution_count": null,
   "id": "fbce420d",
   "metadata": {},
   "outputs": [],
   "source": [
    "##Ans 10##\n",
    "\"\"\"\n",
    "Break :- It is used to come out of the loop\n",
    "continue :- It is used to continue the loop\n",
    "\"\"\"\n"
   ]
  },
  {
   "cell_type": "code",
   "execution_count": 37,
   "id": "0c7e8263",
   "metadata": {},
   "outputs": [
    {
     "name": "stdout",
     "output_type": "stream",
     "text": [
      "0\n",
      "1\n",
      "2\n",
      "3\n",
      "4\n",
      "5\n",
      "6\n",
      "7\n",
      "8\n",
      "9\n",
      "10\n"
     ]
    }
   ],
   "source": [
    "##Ans 11##\n",
    "\"\"\"\n",
    "range(10) it will loop statements from 0 to 9 by default it start with 0\n",
    "range(0, 10) it will loop statements from 0 to 9 it will start with 0 as mentioned left most\n",
    "range(0, 10, 1) it will loop statements from 0 to 9 with 1 jump, it will start with 0 till 9 and having 1 interval\n",
    "interval is rightmost , start loop at is leftmost.\n",
    "\"\"\"\n",
    "##Ans 12##\n",
    "for i in range(0,11,1):    \n",
    "    print(i)"
   ]
  },
  {
   "cell_type": "code",
   "execution_count": 39,
   "id": "19813abb",
   "metadata": {},
   "outputs": [
    {
     "name": "stdout",
     "output_type": "stream",
     "text": [
      "0\n",
      "1\n",
      "2\n",
      "3\n",
      "4\n",
      "5\n",
      "6\n",
      "7\n",
      "8\n",
      "9\n",
      "10\n"
     ]
    }
   ],
   "source": [
    "##Ans 12##\n",
    "i =0\n",
    "while i < 11:\n",
    "    print(i)\n",
    "    i += 1"
   ]
  },
  {
   "cell_type": "code",
   "execution_count": 50,
   "id": "21d6ef60",
   "metadata": {},
   "outputs": [
    {
     "name": "stdout",
     "output_type": "stream",
     "text": [
      "Calling bacon function\n"
     ]
    }
   ],
   "source": [
    "##Ans 13##\n",
    "#we have to import that file name as spam\n",
    "#we can call spam function usinf import file name and then function name {\n",
    "#e.g spam.bacon() \n",
    "\n",
    "import spam\n",
    "\n",
    "spam.bacon()"
   ]
  },
  {
   "cell_type": "code",
   "execution_count": 49,
   "id": "56222cef",
   "metadata": {},
   "outputs": [
    {
     "data": {
      "text/plain": [
       "'C:\\\\Users\\\\hp\\\\miniconda3\\\\Python Programme'"
      ]
     },
     "execution_count": 49,
     "metadata": {},
     "output_type": "execute_result"
    }
   ],
   "source": [
    "pwd"
   ]
  },
  {
   "cell_type": "code",
   "execution_count": null,
   "id": "e30a31eb",
   "metadata": {},
   "outputs": [],
   "source": []
  }
 ],
 "metadata": {
  "kernelspec": {
   "display_name": "Python 3 (ipykernel)",
   "language": "python",
   "name": "python3"
  },
  "language_info": {
   "codemirror_mode": {
    "name": "ipython",
    "version": 3
   },
   "file_extension": ".py",
   "mimetype": "text/x-python",
   "name": "python",
   "nbconvert_exporter": "python",
   "pygments_lexer": "ipython3",
   "version": "3.9.12"
  }
 },
 "nbformat": 4,
 "nbformat_minor": 5
}
