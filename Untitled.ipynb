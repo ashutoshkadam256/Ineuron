{
 "cells": [
  {
   "cell_type": "code",
   "execution_count": 2,
   "id": "9c8ee52a",
   "metadata": {},
   "outputs": [],
   "source": [
    "def test1():\n",
    "    print(\"Hello World\")"
   ]
  },
  {
   "cell_type": "code",
   "execution_count": 5,
   "id": "716e3cd0",
   "metadata": {},
   "outputs": [
    {
     "name": "stdout",
     "output_type": "stream",
     "text": [
      "Hello World\n"
     ]
    }
   ],
   "source": [
    "test1()"
   ]
  },
  {
   "cell_type": "code",
   "execution_count": 6,
   "id": "1abb2729",
   "metadata": {},
   "outputs": [
    {
     "name": "stdout",
     "output_type": "stream",
     "text": [
      "Hello World\n"
     ]
    }
   ],
   "source": [
    "a = test1()"
   ]
  },
  {
   "cell_type": "code",
   "execution_count": 7,
   "id": "9bebab94",
   "metadata": {},
   "outputs": [
    {
     "ename": "TypeError",
     "evalue": "unsupported operand type(s) for +: 'NoneType' and 'str'",
     "output_type": "error",
     "traceback": [
      "\u001b[1;31m---------------------------------------------------------------------------\u001b[0m",
      "\u001b[1;31mTypeError\u001b[0m                                 Traceback (most recent call last)",
      "Cell \u001b[1;32mIn [7], line 1\u001b[0m\n\u001b[1;32m----> 1\u001b[0m \u001b[43ma\u001b[49m\u001b[43m \u001b[49m\u001b[38;5;241;43m+\u001b[39;49m\u001b[43m \u001b[49m\u001b[38;5;124;43m'\u001b[39;49m\u001b[38;5;124;43mStr\u001b[39;49m\u001b[38;5;124;43m'\u001b[39;49m\n",
      "\u001b[1;31mTypeError\u001b[0m: unsupported operand type(s) for +: 'NoneType' and 'str'"
     ]
    }
   ],
   "source": [
    "a + 'Str'"
   ]
  },
  {
   "cell_type": "code",
   "execution_count": 8,
   "id": "00a11d9b",
   "metadata": {},
   "outputs": [
    {
     "data": {
      "text/plain": [
       "'None'"
      ]
     },
     "execution_count": 8,
     "metadata": {},
     "output_type": "execute_result"
    }
   ],
   "source": [
    "str(a)"
   ]
  },
  {
   "cell_type": "code",
   "execution_count": 9,
   "id": "29eaef53",
   "metadata": {},
   "outputs": [
    {
     "ename": "TypeError",
     "evalue": "unsupported operand type(s) for +: 'NoneType' and 'str'",
     "output_type": "error",
     "traceback": [
      "\u001b[1;31m---------------------------------------------------------------------------\u001b[0m",
      "\u001b[1;31mTypeError\u001b[0m                                 Traceback (most recent call last)",
      "Cell \u001b[1;32mIn [9], line 1\u001b[0m\n\u001b[1;32m----> 1\u001b[0m \u001b[43ma\u001b[49m\u001b[43m \u001b[49m\u001b[38;5;241;43m+\u001b[39;49m\u001b[43m \u001b[49m\u001b[38;5;124;43m'\u001b[39;49m\u001b[38;5;124;43mHello\u001b[39;49m\u001b[38;5;124;43m'\u001b[39;49m\n",
      "\u001b[1;31mTypeError\u001b[0m: unsupported operand type(s) for +: 'NoneType' and 'str'"
     ]
    }
   ],
   "source": [
    "a + 'Hello'"
   ]
  },
  {
   "cell_type": "code",
   "execution_count": 10,
   "id": "ad3b6097",
   "metadata": {},
   "outputs": [],
   "source": [
    "b= \"Hello \""
   ]
  },
  {
   "cell_type": "code",
   "execution_count": 11,
   "id": "b80c233f",
   "metadata": {},
   "outputs": [
    {
     "data": {
      "text/plain": [
       "'Hello World'"
      ]
     },
     "execution_count": 11,
     "metadata": {},
     "output_type": "execute_result"
    }
   ],
   "source": [
    "b + \"World\""
   ]
  },
  {
   "cell_type": "code",
   "execution_count": 15,
   "id": "d0c69afe",
   "metadata": {},
   "outputs": [],
   "source": [
    "def test2():\n",
    "    return \"Hello World\""
   ]
  },
  {
   "cell_type": "code",
   "execution_count": 16,
   "id": "a43d6b8d",
   "metadata": {},
   "outputs": [],
   "source": [
    "a = test2()"
   ]
  },
  {
   "cell_type": "code",
   "execution_count": 18,
   "id": "6e6b3c8e",
   "metadata": {},
   "outputs": [
    {
     "data": {
      "text/plain": [
       "'Hello World Brighter'"
      ]
     },
     "execution_count": 18,
     "metadata": {},
     "output_type": "execute_result"
    }
   ],
   "source": [
    "a + \" Brighter\""
   ]
  },
  {
   "cell_type": "code",
   "execution_count": 19,
   "id": "31632af5",
   "metadata": {},
   "outputs": [
    {
     "name": "stdout",
     "output_type": "stream",
     "text": [
      "Hello World\n"
     ]
    },
    {
     "data": {
      "text/plain": [
       "NoneType"
      ]
     },
     "execution_count": 19,
     "metadata": {},
     "output_type": "execute_result"
    }
   ],
   "source": [
    "type(test1())"
   ]
  },
  {
   "cell_type": "code",
   "execution_count": 20,
   "id": "073962dc",
   "metadata": {},
   "outputs": [
    {
     "data": {
      "text/plain": [
       "str"
      ]
     },
     "execution_count": 20,
     "metadata": {},
     "output_type": "execute_result"
    }
   ],
   "source": [
    "type(test2())"
   ]
  },
  {
   "cell_type": "code",
   "execution_count": 22,
   "id": "20fbb9df",
   "metadata": {},
   "outputs": [],
   "source": [
    "def test1 () :\n",
    "    return 1,54.45,\"sudf\",[4,6,8,9,34],(\"dss\",45),\"fokner\""
   ]
  },
  {
   "cell_type": "code",
   "execution_count": 23,
   "id": "96869af0",
   "metadata": {},
   "outputs": [
    {
     "data": {
      "text/plain": [
       "tuple"
      ]
     },
     "execution_count": 23,
     "metadata": {},
     "output_type": "execute_result"
    }
   ],
   "source": [
    "type(test1 ())"
   ]
  },
  {
   "cell_type": "code",
   "execution_count": 24,
   "id": "cbf1132b",
   "metadata": {},
   "outputs": [],
   "source": [
    "a = test1 ()"
   ]
  },
  {
   "cell_type": "code",
   "execution_count": 25,
   "id": "b682e3a5",
   "metadata": {},
   "outputs": [
    {
     "data": {
      "text/plain": [
       "(1, 54.45, 'sudf', [4, 6, 8, 9, 34], ('dss', 45), 'fokner')"
      ]
     },
     "execution_count": 25,
     "metadata": {},
     "output_type": "execute_result"
    }
   ],
   "source": [
    "a"
   ]
  },
  {
   "cell_type": "code",
   "execution_count": 28,
   "id": "ed663154",
   "metadata": {},
   "outputs": [],
   "source": [
    "a,b,c,d,e ,f  = test1 ()"
   ]
  },
  {
   "cell_type": "code",
   "execution_count": 30,
   "id": "3276de3b",
   "metadata": {},
   "outputs": [
    {
     "data": {
      "text/plain": [
       "[4, 6, 8, 9, 34]"
      ]
     },
     "execution_count": 30,
     "metadata": {},
     "output_type": "execute_result"
    }
   ],
   "source": [
    "d"
   ]
  },
  {
   "cell_type": "code",
   "execution_count": 31,
   "id": "870a62d9",
   "metadata": {},
   "outputs": [],
   "source": [
    "l = [3,4,5,6,\"sud\",[45,43,54,\"ryu\"],34.54,\"hello\"]"
   ]
  },
  {
   "cell_type": "code",
   "execution_count": 32,
   "id": "c8a03291",
   "metadata": {},
   "outputs": [
    {
     "data": {
      "text/plain": [
       "[3, 4, 5, 6, 'sud', [45, 43, 54, 'ryu'], 34.54, 'hello']"
      ]
     },
     "execution_count": 32,
     "metadata": {},
     "output_type": "execute_result"
    }
   ],
   "source": [
    "l"
   ]
  },
  {
   "cell_type": "code",
   "execution_count": 43,
   "id": "61076222",
   "metadata": {},
   "outputs": [],
   "source": [
    "def test2(a):\n",
    "    n = []\n",
    "    if type(a) == list:\n",
    "        \n",
    "        for i in a:\n",
    "            if type(i) == int:\n",
    "                \n",
    "                n.append(i)\n",
    "                \n",
    "    return n"
   ]
  },
  {
   "cell_type": "code",
   "execution_count": 44,
   "id": "d7416daa",
   "metadata": {},
   "outputs": [
    {
     "data": {
      "text/plain": [
       "[3, 4, 5, 6]"
      ]
     },
     "execution_count": 44,
     "metadata": {},
     "output_type": "execute_result"
    }
   ],
   "source": [
    "test2(l)"
   ]
  },
  {
   "cell_type": "code",
   "execution_count": 83,
   "id": "585a938b",
   "metadata": {},
   "outputs": [],
   "source": [
    "# extending list function\n",
    "def ext(a,b):\n",
    "    if type(a) == list and type(b) == list:       \n",
    "        a.extend(b) \n",
    "        return a\n",
    "    else:\n",
    "        print(\"one of your argument is not list\")\n",
    "       \n",
    "    \n",
    "    \n",
    "    \n",
    "    "
   ]
  },
  {
   "cell_type": "code",
   "execution_count": 81,
   "id": "2f8576fc",
   "metadata": {},
   "outputs": [],
   "source": [
    "a = [2,3,3,4,45,5,6]\n",
    "b =  [100,100,101]"
   ]
  },
  {
   "cell_type": "code",
   "execution_count": 84,
   "id": "432abf6e",
   "metadata": {},
   "outputs": [
    {
     "data": {
      "text/plain": [
       "[2, 3, 3, 4, 45, 5, 6, 100, 100, 101, 100, 100, 101]"
      ]
     },
     "execution_count": 84,
     "metadata": {},
     "output_type": "execute_result"
    }
   ],
   "source": [
    "ext(a,b)"
   ]
  },
  {
   "cell_type": "code",
   "execution_count": 72,
   "id": "c54fba85",
   "metadata": {},
   "outputs": [
    {
     "data": {
      "text/plain": [
       "list"
      ]
     },
     "execution_count": 72,
     "metadata": {},
     "output_type": "execute_result"
    }
   ],
   "source": [
    "type(b)"
   ]
  },
  {
   "cell_type": "code",
   "execution_count": 110,
   "id": "d4586afc",
   "metadata": {},
   "outputs": [],
   "source": [
    "\n",
    "def pattern(a):\n",
    "    for i in range(1,a+1):\n",
    "        j = i\n",
    "        while j > 0 :\n",
    "            print(\"*\" ,end = \"\")\n",
    "            j = j-1 \n",
    "        print(\"\\n\")\n",
    "\n",
    "        \"\"\"  this is patteren bro\n",
    "\n",
    "\"\"\""
   ]
  },
  {
   "cell_type": "code",
   "execution_count": 115,
   "id": "2353adb7",
   "metadata": {},
   "outputs": [
    {
     "name": "stdout",
     "output_type": "stream",
     "text": [
      "*\n",
      "\n",
      "**\n",
      "\n",
      "***\n",
      "\n",
      "****\n",
      "\n",
      "*****\n",
      "\n",
      "Help on NoneType object:\n",
      "\n",
      "class NoneType(object)\n",
      " |  Methods defined here:\n",
      " |  \n",
      " |  __bool__(self, /)\n",
      " |      True if self else False\n",
      " |  \n",
      " |  __repr__(self, /)\n",
      " |      Return repr(self).\n",
      " |  \n",
      " |  ----------------------------------------------------------------------\n",
      " |  Static methods defined here:\n",
      " |  \n",
      " |  __new__(*args, **kwargs) from builtins.type\n",
      " |      Create and return a new object.  See help(type) for accurate signature.\n",
      "\n"
     ]
    }
   ],
   "source": [
    "help(pattern(5))\n",
    "\n",
    "    \n",
    "\n",
    "        \n",
    "    "
   ]
  },
  {
   "cell_type": "code",
   "execution_count": 116,
   "id": "6328b157",
   "metadata": {},
   "outputs": [],
   "source": [
    "def test(*args):\n",
    "    return args"
   ]
  },
  {
   "cell_type": "code",
   "execution_count": 117,
   "id": "c17b22e2",
   "metadata": {},
   "outputs": [
    {
     "data": {
      "text/plain": [
       "(1, 2, 3)"
      ]
     },
     "execution_count": 117,
     "metadata": {},
     "output_type": "execute_result"
    }
   ],
   "source": [
    "test(1,2,3)"
   ]
  },
  {
   "cell_type": "code",
   "execution_count": 141,
   "id": "f3e38020",
   "metadata": {},
   "outputs": [],
   "source": [
    "a = lambda *a,b : (a,b)"
   ]
  },
  {
   "cell_type": "code",
   "execution_count": 142,
   "id": "da563f55",
   "metadata": {},
   "outputs": [
    {
     "data": {
      "text/plain": [
       "((2, 3, 4), 5)"
      ]
     },
     "execution_count": 142,
     "metadata": {},
     "output_type": "execute_result"
    }
   ],
   "source": [
    "a(2,3,4,b=5)"
   ]
  },
  {
   "cell_type": "code",
   "execution_count": 4,
   "id": "2303a44b",
   "metadata": {},
   "outputs": [],
   "source": [
    "x = lambda x : [print(i) for i in x]"
   ]
  },
  {
   "cell_type": "code",
   "execution_count": 5,
   "id": "44516b4a",
   "metadata": {},
   "outputs": [
    {
     "name": "stdout",
     "output_type": "stream",
     "text": [
      "2\n",
      "3\n",
      "4\n",
      "4\n",
      "5\n",
      "9\n"
     ]
    },
    {
     "data": {
      "text/plain": [
       "[None, None, None, None, None, None]"
      ]
     },
     "execution_count": 5,
     "metadata": {},
     "output_type": "execute_result"
    }
   ],
   "source": [
    "x([2,3,4,4,5,9])"
   ]
  },
  {
   "cell_type": "code",
   "execution_count": 6,
   "id": "c3a8819f",
   "metadata": {},
   "outputs": [],
   "source": [
    "a = lambda **args : args"
   ]
  },
  {
   "cell_type": "code",
   "execution_count": 7,
   "id": "a93714f1",
   "metadata": {},
   "outputs": [
    {
     "data": {
      "text/plain": [
       "{'a': 10, 'b': 20}"
      ]
     },
     "execution_count": 7,
     "metadata": {},
     "output_type": "execute_result"
    }
   ],
   "source": [
    "a(a=10,b=20)"
   ]
  },
  {
   "cell_type": "code",
   "execution_count": 8,
   "id": "d7a9e23f",
   "metadata": {},
   "outputs": [],
   "source": [
    "a = lambda *args : args"
   ]
  },
  {
   "cell_type": "code",
   "execution_count": 9,
   "id": "7e99e50f",
   "metadata": {},
   "outputs": [
    {
     "data": {
      "text/plain": [
       "(1, 23, 23, 4, 24, 24, 23)"
      ]
     },
     "execution_count": 9,
     "metadata": {},
     "output_type": "execute_result"
    }
   ],
   "source": [
    "a(1,23,23,4,24,24,23)"
   ]
  },
  {
   "cell_type": "code",
   "execution_count": 10,
   "id": "5a27cc3f",
   "metadata": {},
   "outputs": [],
   "source": [
    "a =10\n"
   ]
  },
  {
   "cell_type": "code",
   "execution_count": 15,
   "id": "86ebd0b9",
   "metadata": {},
   "outputs": [],
   "source": [
    " def mul(c,d) :\n",
    "        c = 5\n",
    "        return c*d"
   ]
  },
  {
   "cell_type": "code",
   "execution_count": 16,
   "id": "425ef879",
   "metadata": {},
   "outputs": [
    {
     "data": {
      "text/plain": [
       "25"
      ]
     },
     "execution_count": 16,
     "metadata": {},
     "output_type": "execute_result"
    }
   ],
   "source": [
    "mul(a,5)"
   ]
  },
  {
   "cell_type": "code",
   "execution_count": 17,
   "id": "305017dd",
   "metadata": {},
   "outputs": [],
   "source": [
    "l= [1,2,3,4]"
   ]
  },
  {
   "cell_type": "code",
   "execution_count": 20,
   "id": "d780382b",
   "metadata": {},
   "outputs": [],
   "source": [
    "l2=[]\n",
    "for i in l:  \n",
    "    l2.append(i+2)\n"
   ]
  },
  {
   "cell_type": "code",
   "execution_count": 21,
   "id": "bbf74f00",
   "metadata": {},
   "outputs": [
    {
     "data": {
      "text/plain": [
       "[3, 4, 5, 6]"
      ]
     },
     "execution_count": 21,
     "metadata": {},
     "output_type": "execute_result"
    }
   ],
   "source": [
    "l2"
   ]
  },
  {
   "cell_type": "code",
   "execution_count": 24,
   "id": "ad8c0bc3",
   "metadata": {},
   "outputs": [],
   "source": [
    "def fun(a):\n",
    "    l2 = []\n",
    "    for i in a:\n",
    "        l2.append(i+2)\n",
    "    return l2"
   ]
  },
  {
   "cell_type": "code",
   "execution_count": 25,
   "id": "1d09b23e",
   "metadata": {},
   "outputs": [
    {
     "data": {
      "text/plain": [
       "[3, 4, 5, 6]"
      ]
     },
     "execution_count": 25,
     "metadata": {},
     "output_type": "execute_result"
    }
   ],
   "source": [
    "fun(l)"
   ]
  },
  {
   "cell_type": "code",
   "execution_count": 28,
   "id": "ce845ee3",
   "metadata": {},
   "outputs": [],
   "source": [
    "x = lambda x : [i + 2 for i in x]"
   ]
  },
  {
   "cell_type": "code",
   "execution_count": 29,
   "id": "3a19933c",
   "metadata": {},
   "outputs": [
    {
     "data": {
      "text/plain": [
       "[3, 4, 5, 6]"
      ]
     },
     "execution_count": 29,
     "metadata": {},
     "output_type": "execute_result"
    }
   ],
   "source": [
    "x(l)"
   ]
  },
  {
   "cell_type": "code",
   "execution_count": 30,
   "id": "512356ff",
   "metadata": {},
   "outputs": [
    {
     "data": {
      "text/plain": [
       "[3, 4, 5, 6]"
      ]
     },
     "execution_count": 30,
     "metadata": {},
     "output_type": "execute_result"
    }
   ],
   "source": [
    "[i+2 for i in l]"
   ]
  },
  {
   "cell_type": "code",
   "execution_count": null,
   "id": "86f97185",
   "metadata": {},
   "outputs": [],
   "source": []
  }
 ],
 "metadata": {
  "kernelspec": {
   "display_name": "Python 3 (ipykernel)",
   "language": "python",
   "name": "python3"
  },
  "language_info": {
   "codemirror_mode": {
    "name": "ipython",
    "version": 3
   },
   "file_extension": ".py",
   "mimetype": "text/x-python",
   "name": "python",
   "nbconvert_exporter": "python",
   "pygments_lexer": "ipython3",
   "version": "3.9.12"
  }
 },
 "nbformat": 4,
 "nbformat_minor": 5
}
