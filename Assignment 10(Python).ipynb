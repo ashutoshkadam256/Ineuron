{
 "cells": [
  {
   "cell_type": "markdown",
   "id": "b44f472b",
   "metadata": {},
   "source": [
    "1. How do you distinguish between shutil.copy() and shutil.copytree()?\n",
    "2. What function is used to rename files??\n",
    "3. What is the difference between the delete functions in the send2trash and shutil modules?\n",
    "4.ZipFile objects have a close() method just like File objects’ close() method. What ZipFile method is\n",
    "equivalent to File objects’ open() method?\n",
    "5. Create a programme that searches a folder tree for files with a certain file extension (such as .pdf\n",
    "or .jpg). Copy these files from whatever location they are in to a new folder."
   ]
  },
  {
   "cell_type": "markdown",
   "id": "7e6a4be7",
   "metadata": {},
   "source": [
    "Ans 1:- While shutil.copy() will copy a single file, shutil.copytree() will copy an entire folder and every folder and file contained in it"
   ]
  },
  {
   "cell_type": "markdown",
   "id": "0cc037ce",
   "metadata": {},
   "source": [
    "shutil.copy('C:\\\\spam.txt', 'C:\\\\delicious')"
   ]
  },
  {
   "cell_type": "markdown",
   "id": "b0c6f104",
   "metadata": {},
   "source": [
    "shutil.copytree('C:\\\\bacon', 'C:\\\\bacon_backup')"
   ]
  },
  {
   "cell_type": "markdown",
   "id": "8e06fb80",
   "metadata": {},
   "source": [
    "Ans 2:- Renaming files is done using os.rename() function in the OS module. It takes two arguments: the current name of the file or directory and the new name."
   ]
  },
  {
   "cell_type": "markdown",
   "id": "54e9b5f3",
   "metadata": {},
   "source": [
    "os.rename(current_file_name, new_file_name)"
   ]
  },
  {
   "cell_type": "markdown",
   "id": "718ee312",
   "metadata": {},
   "source": [
    "Ans 3:-The send2trash functions will move a file or folder to the recycle bin, while shutil functions will permanently delete files and folders."
   ]
  },
  {
   "cell_type": "markdown",
   "id": "693ed86a",
   "metadata": {},
   "source": [
    "import send2trash\n",
    "\n",
    "send2trash.send2trash(\"/location/to/file\")\n"
   ]
  },
  {
   "cell_type": "markdown",
   "id": "4f4a0656",
   "metadata": {},
   "source": [
    "shutil.rmtree(path, ignore_errors=False, onerror=None)"
   ]
  },
  {
   "cell_type": "markdown",
   "id": "9f34125e",
   "metadata": {},
   "source": [
    "Use the rmtree() method of a shutil module to delete a directory and all files from it.The Python shutil module helps perform high-level operations in a file or collection of files like copying or removing content."
   ]
  },
  {
   "cell_type": "markdown",
   "id": "5c7c5345",
   "metadata": {},
   "source": [
    "Ans 4:- The zipfile.ZipFile() function is equivalent to the open() function; the first argument is the filename, and the second argument is the mode to open the ZIP file in (read, write, or append)."
   ]
  },
  {
   "cell_type": "markdown",
   "id": "52f66e0a",
   "metadata": {},
   "source": [
    "Ans 5:-"
   ]
  },
  {
   "cell_type": "code",
   "execution_count": 19,
   "id": "b11e1a01",
   "metadata": {},
   "outputs": [
    {
     "name": "stdout",
     "output_type": "stream",
     "text": [
      "Coping C:\\Users\\hp\\miniconda3\\Python Programme\\test\\Assignment 3(Python).ipynb to C:\\Users\\hp\\miniconda3\\Python Programme\\testNew\n",
      "Coping C:\\Users\\hp\\miniconda3\\Python Programme\\test\\Assignment 4(Python).ipynb to C:\\Users\\hp\\miniconda3\\Python Programme\\testNew\n",
      "Coping C:\\Users\\hp\\miniconda3\\Python Programme\\test\\Assignment 5(Python).ipynb to C:\\Users\\hp\\miniconda3\\Python Programme\\testNew\n",
      "Coping C:\\Users\\hp\\miniconda3\\Python Programme\\test\\Assignment 6 (Python).ipynb to C:\\Users\\hp\\miniconda3\\Python Programme\\testNew\n",
      "Coping C:\\Users\\hp\\miniconda3\\Python Programme\\test\\subfolder\\Assignment 7 (Python).ipynb to C:\\Users\\hp\\miniconda3\\Python Programme\\testNew\n",
      "Coping C:\\Users\\hp\\miniconda3\\Python Programme\\test\\subfolder\\subsubfolder\\Assignment 8(Python).ipynb to C:\\Users\\hp\\miniconda3\\Python Programme\\testNew\n"
     ]
    }
   ],
   "source": [
    "destFolder = r'C:\\Users\\hp\\miniconda3\\Python Programme\\testNew'\n",
    "folder = r'C:\\Users\\hp\\miniconda3\\Python Programme\\test'\n",
    "for foldername, subfolder, filenames in os.walk(folder):\n",
    "    for file in filenames:\n",
    "        path,ext = os.path.splitext(file)\n",
    "        if ext == '.ipynb':\n",
    "            filepath = foldername + os.path.sep + file\n",
    "            print('Coping', filepath, 'to',destFolder)\n",
    "            shutil.copy(filepath,destFolder)   \n",
    "    \n",
    "    "
   ]
  },
  {
   "cell_type": "code",
   "execution_count": null,
   "id": "c2a5c07d",
   "metadata": {},
   "outputs": [],
   "source": []
  }
 ],
 "metadata": {
  "kernelspec": {
   "display_name": "Python 3 (ipykernel)",
   "language": "python",
   "name": "python3"
  },
  "language_info": {
   "codemirror_mode": {
    "name": "ipython",
    "version": 3
   },
   "file_extension": ".py",
   "mimetype": "text/x-python",
   "name": "python",
   "nbconvert_exporter": "python",
   "pygments_lexer": "ipython3",
   "version": "3.9.12"
  }
 },
 "nbformat": 4,
 "nbformat_minor": 5
}
