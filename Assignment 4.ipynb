{
 "cells": [
  {
   "cell_type": "code",
   "execution_count": null,
   "id": "e09e8a8c",
   "metadata": {},
   "outputs": [],
   "source": [
    "\"\"\"\n",
    "1. What exactly is []?\n",
    "2. In a list of values stored in a variable called spam, how would you assign the value 'hello' as the\n",
    "third value? (Assume [2, 4, 6, 8, 10] are in spam.)\n",
    "Let's pretend the spam includes the list ['a', 'b','c', 'd'] for the next three queries.\n",
    "3. What is the value of spam[int(int('3' * 2) / 11)]?\n",
    "4. What is the value of spam[-1]?\n",
    "5. What is the value of spam[:2]?\n",
    "Let's pretend bacon has the list [3.14, 'cat', 11, 'cat', True] for the next three questions.\n",
    "6. What is the value of bacon.index('cat')?\n",
    "7. How does bacon.append(99) change the look of the list value in bacon?\n",
    "8. How does bacon.remove('cat') change the look of the list in bacon?\n",
    "9. What are the list concatenation and list replication operators?\n",
    "10. What is difference between the list methods append() and insert()?\n",
    "11. What are the two methods for removing items from a list?\n",
    "12. Describe how list values and string values are identical.\n",
    "13. What's the difference between tuples and lists?\n",
    "14. How do you type a tuple value that only contains the integer 42?\n",
    "15. How do you get a list value's tuple form? How do you get a tuple value's list form?\n",
    "16. Variables that 'contain' list values are not necessarily lists themselves. Instead, what do they\n",
    "contain?\n",
    "17. How do you distinguish between copy.copy() and copy.deepcopy()?\n",
    "\"\"\""
   ]
  },
  {
   "cell_type": "markdown",
   "id": "efea53c6",
   "metadata": {},
   "source": [
    "Ans 1)\n",
    "The empty list value, which is a list value that contains no items."
   ]
  },
  {
   "cell_type": "markdown",
   "id": "cbf8026c",
   "metadata": {},
   "source": [
    "Ans 2)"
   ]
  },
  {
   "cell_type": "code",
   "execution_count": 5,
   "id": "8caeb9d0",
   "metadata": {},
   "outputs": [],
   "source": [
    "spam = [2, 4, 6, 8, 10]"
   ]
  },
  {
   "cell_type": "code",
   "execution_count": 6,
   "id": "4bea9b45",
   "metadata": {},
   "outputs": [],
   "source": [
    "spam.insert(2,'hello')"
   ]
  },
  {
   "cell_type": "code",
   "execution_count": 7,
   "id": "a6a56dd9",
   "metadata": {},
   "outputs": [
    {
     "data": {
      "text/plain": [
       "[2, 4, 'hello', 6, 8, 10]"
      ]
     },
     "execution_count": 7,
     "metadata": {},
     "output_type": "execute_result"
    }
   ],
   "source": [
    "spam"
   ]
  },
  {
   "cell_type": "code",
   "execution_count": 8,
   "id": "6381debf",
   "metadata": {},
   "outputs": [],
   "source": [
    "spam = ['a', 'b','c', 'd']"
   ]
  },
  {
   "cell_type": "markdown",
   "id": "2c7358de",
   "metadata": {},
   "source": [
    "Ans 3)"
   ]
  },
  {
   "cell_type": "code",
   "execution_count": 9,
   "id": "8ffe2089",
   "metadata": {},
   "outputs": [
    {
     "data": {
      "text/plain": [
       "'d'"
      ]
     },
     "execution_count": 9,
     "metadata": {},
     "output_type": "execute_result"
    }
   ],
   "source": [
    "spam[int(int('3' * 2) / 11)]"
   ]
  },
  {
   "cell_type": "markdown",
   "id": "406ccefc",
   "metadata": {},
   "source": [
    "Ans 4)"
   ]
  },
  {
   "cell_type": "code",
   "execution_count": 12,
   "id": "3dbfdb54",
   "metadata": {},
   "outputs": [
    {
     "data": {
      "text/plain": [
       "'d'"
      ]
     },
     "execution_count": 12,
     "metadata": {},
     "output_type": "execute_result"
    }
   ],
   "source": [
    "spam[-1]"
   ]
  },
  {
   "cell_type": "markdown",
   "id": "b8c65615",
   "metadata": {},
   "source": [
    "Ans 5)"
   ]
  },
  {
   "cell_type": "code",
   "execution_count": 19,
   "id": "bbfc181d",
   "metadata": {},
   "outputs": [
    {
     "data": {
      "text/plain": [
       "['a', 'b']"
      ]
     },
     "execution_count": 19,
     "metadata": {},
     "output_type": "execute_result"
    }
   ],
   "source": [
    "spam[:2]"
   ]
  },
  {
   "cell_type": "code",
   "execution_count": 20,
   "id": "85d0258b",
   "metadata": {},
   "outputs": [],
   "source": [
    "bacon = [3.14, 'cat', 11, 'cat', True]"
   ]
  },
  {
   "cell_type": "markdown",
   "id": "0d77f783",
   "metadata": {},
   "source": [
    "Ans 6)"
   ]
  },
  {
   "cell_type": "code",
   "execution_count": 21,
   "id": "a693f066",
   "metadata": {},
   "outputs": [
    {
     "data": {
      "text/plain": [
       "1"
      ]
     },
     "execution_count": 21,
     "metadata": {},
     "output_type": "execute_result"
    }
   ],
   "source": [
    "bacon.index('cat')"
   ]
  },
  {
   "cell_type": "markdown",
   "id": "8d2cd081",
   "metadata": {},
   "source": [
    "Ans 7)"
   ]
  },
  {
   "cell_type": "code",
   "execution_count": 22,
   "id": "7871d93f",
   "metadata": {},
   "outputs": [],
   "source": [
    "bacon.append(99)"
   ]
  },
  {
   "cell_type": "code",
   "execution_count": 23,
   "id": "f81a968d",
   "metadata": {},
   "outputs": [
    {
     "data": {
      "text/plain": [
       "[3.14, 'cat', 11, 'cat', True, 99]"
      ]
     },
     "execution_count": 23,
     "metadata": {},
     "output_type": "execute_result"
    }
   ],
   "source": [
    "bacon"
   ]
  },
  {
   "cell_type": "markdown",
   "id": "90dd1ba7",
   "metadata": {},
   "source": [
    "It will add 99 at the end."
   ]
  },
  {
   "cell_type": "markdown",
   "id": "b48bf974",
   "metadata": {},
   "source": [
    "Ans 8)"
   ]
  },
  {
   "cell_type": "code",
   "execution_count": 24,
   "id": "2501b362",
   "metadata": {},
   "outputs": [],
   "source": [
    "bacon.remove('cat')"
   ]
  },
  {
   "cell_type": "code",
   "execution_count": 25,
   "id": "1baa4676",
   "metadata": {},
   "outputs": [
    {
     "data": {
      "text/plain": [
       "[3.14, 11, 'cat', True, 99]"
      ]
     },
     "execution_count": 25,
     "metadata": {},
     "output_type": "execute_result"
    }
   ],
   "source": [
    "bacon"
   ]
  },
  {
   "cell_type": "markdown",
   "id": "b7c18540",
   "metadata": {},
   "source": [
    "It  has remove first cat value"
   ]
  },
  {
   "cell_type": "markdown",
   "id": "d12d41eb",
   "metadata": {},
   "source": [
    "Ans 9) The list Concatenation operator '+' In string , list , tuples used for concatenation , data type is int then used for addition , it's not useful in dictionary data\n",
    "\n",
    "The list Replication operator '*' In string , list , tuples used for replicate , data type is int then used for multiplication, it's not useful in dictionary data "
   ]
  },
  {
   "cell_type": "code",
   "execution_count": 45,
   "id": "15d66d4f",
   "metadata": {},
   "outputs": [],
   "source": [
    "l1=[[2]]"
   ]
  },
  {
   "cell_type": "code",
   "execution_count": 46,
   "id": "acddf1b7",
   "metadata": {},
   "outputs": [],
   "source": [
    "l2=l1*2"
   ]
  },
  {
   "cell_type": "code",
   "execution_count": 47,
   "id": "d30a98e7",
   "metadata": {},
   "outputs": [
    {
     "data": {
      "text/plain": [
       "[[2], [2]]"
      ]
     },
     "execution_count": 47,
     "metadata": {},
     "output_type": "execute_result"
    }
   ],
   "source": [
    "l2"
   ]
  },
  {
   "cell_type": "code",
   "execution_count": 48,
   "id": "0e32bc41",
   "metadata": {},
   "outputs": [],
   "source": [
    "l1[0][0]=99"
   ]
  },
  {
   "cell_type": "code",
   "execution_count": 49,
   "id": "9efccf69",
   "metadata": {},
   "outputs": [
    {
     "data": {
      "text/plain": [
       "[[99]]"
      ]
     },
     "execution_count": 49,
     "metadata": {},
     "output_type": "execute_result"
    }
   ],
   "source": [
    "l1"
   ]
  },
  {
   "cell_type": "code",
   "execution_count": 50,
   "id": "e4ca3207",
   "metadata": {},
   "outputs": [
    {
     "data": {
      "text/plain": [
       "[[99], [99]]"
      ]
     },
     "execution_count": 50,
     "metadata": {},
     "output_type": "execute_result"
    }
   ],
   "source": [
    "l2"
   ]
  },
  {
   "cell_type": "markdown",
   "id": "bcc4d808",
   "metadata": {},
   "source": [
    "Ans 10) In append() method we just append value at the end , but in insert() we can insert value in any desired index"
   ]
  },
  {
   "cell_type": "code",
   "execution_count": 51,
   "id": "bfc55289",
   "metadata": {},
   "outputs": [],
   "source": [
    "l2.append(3)"
   ]
  },
  {
   "cell_type": "code",
   "execution_count": 52,
   "id": "1a0a8d28",
   "metadata": {},
   "outputs": [
    {
     "data": {
      "text/plain": [
       "[[99], [99], 3]"
      ]
     },
     "execution_count": 52,
     "metadata": {},
     "output_type": "execute_result"
    }
   ],
   "source": [
    "l2"
   ]
  },
  {
   "cell_type": "code",
   "execution_count": 53,
   "id": "adb412d9",
   "metadata": {},
   "outputs": [],
   "source": [
    "l2.insert(1,5)"
   ]
  },
  {
   "cell_type": "code",
   "execution_count": 54,
   "id": "747532fe",
   "metadata": {},
   "outputs": [
    {
     "data": {
      "text/plain": [
       "[[99], 5, [99], 3]"
      ]
     },
     "execution_count": 54,
     "metadata": {},
     "output_type": "execute_result"
    }
   ],
   "source": [
    "l2"
   ]
  },
  {
   "cell_type": "markdown",
   "id": "9dae6793",
   "metadata": {},
   "source": [
    "Ans 11) Remove , Pop and Clear are three methods for removing items from a list"
   ]
  },
  {
   "cell_type": "code",
   "execution_count": 57,
   "id": "3475f771",
   "metadata": {},
   "outputs": [],
   "source": [
    "l2.remove(5)"
   ]
  },
  {
   "cell_type": "code",
   "execution_count": 58,
   "id": "589676a8",
   "metadata": {},
   "outputs": [
    {
     "data": {
      "text/plain": [
       "[[99], [99], 3]"
      ]
     },
     "execution_count": 58,
     "metadata": {},
     "output_type": "execute_result"
    }
   ],
   "source": [
    "l2"
   ]
  },
  {
   "cell_type": "code",
   "execution_count": 59,
   "id": "0dae23ad",
   "metadata": {},
   "outputs": [
    {
     "data": {
      "text/plain": [
       "3"
      ]
     },
     "execution_count": 59,
     "metadata": {},
     "output_type": "execute_result"
    }
   ],
   "source": [
    "l2.pop()"
   ]
  },
  {
   "cell_type": "code",
   "execution_count": 60,
   "id": "e8f4aba2",
   "metadata": {},
   "outputs": [
    {
     "data": {
      "text/plain": [
       "[[99], [99]]"
      ]
     },
     "execution_count": 60,
     "metadata": {},
     "output_type": "execute_result"
    }
   ],
   "source": [
    "l2"
   ]
  },
  {
   "cell_type": "code",
   "execution_count": 61,
   "id": "6d076735",
   "metadata": {},
   "outputs": [
    {
     "data": {
      "text/plain": [
       "[99]"
      ]
     },
     "execution_count": 61,
     "metadata": {},
     "output_type": "execute_result"
    }
   ],
   "source": [
    "l2.pop(0)"
   ]
  },
  {
   "cell_type": "code",
   "execution_count": 62,
   "id": "688e9522",
   "metadata": {},
   "outputs": [],
   "source": [
    "l2.append(bacon)"
   ]
  },
  {
   "cell_type": "code",
   "execution_count": 64,
   "id": "21ef7f7a",
   "metadata": {},
   "outputs": [
    {
     "data": {
      "text/plain": [
       "[[99], [3.14, 11, 'cat', True, 99]]"
      ]
     },
     "execution_count": 64,
     "metadata": {},
     "output_type": "execute_result"
    }
   ],
   "source": [
    "l2"
   ]
  },
  {
   "cell_type": "code",
   "execution_count": 66,
   "id": "62253062",
   "metadata": {},
   "outputs": [],
   "source": [
    "l2.clear()"
   ]
  },
  {
   "cell_type": "code",
   "execution_count": 67,
   "id": "a7ee7e29",
   "metadata": {},
   "outputs": [
    {
     "data": {
      "text/plain": [
       "[]"
      ]
     },
     "execution_count": 67,
     "metadata": {},
     "output_type": "execute_result"
    }
   ],
   "source": [
    "l2"
   ]
  },
  {
   "cell_type": "markdown",
   "id": "1a66968d",
   "metadata": {},
   "source": [
    " remove() method will remove given element from list\n",
    " pop() method will remove given element from list or if element is not given then remove last element\n",
    " clear() method will clear list"
   ]
  },
  {
   "cell_type": "markdown",
   "id": "0440e504",
   "metadata": {},
   "source": [
    "Ans12)"
   ]
  },
  {
   "cell_type": "markdown",
   "id": "8ba734b4",
   "metadata": {},
   "source": [
    "*)Both strings and lists have lengths: a string's length is the number of characters in the string; a list's length is the number of items in the list.\n",
    "*)both strings and lists have a position. \n",
    "*)both are sequences. A string is a character's sequence between single or double quotations. A list is an item sequence in which each item could be anything such as a float, an integer, a string, etc\n",
    "Having common string and list method."
   ]
  },
  {
   "cell_type": "markdown",
   "id": "eb209bd0",
   "metadata": {},
   "source": [
    "Ans 13)"
   ]
  },
  {
   "cell_type": "markdown",
   "id": "455abb11",
   "metadata": {},
   "source": [
    "*)tuples are immutable but lists which are mutable. \n",
    "*)Iterations are time-consuming in list but not in tuples\n",
    "*)The list is better for performing operations, such as insertion and deletion.\n",
    "Tuple data type is appropriate for accessing the elements\n",
    "*) Lists consume more memory then tuples\n",
    "*)Lists have several built-in methods\n",
    "*)The unexpected changes and errors are more likely to occur in list but this has less possiblity in tuples"
   ]
  },
  {
   "cell_type": "markdown",
   "id": "d93cae32",
   "metadata": {},
   "source": [
    "Ans 14)"
   ]
  },
  {
   "cell_type": "code",
   "execution_count": 85,
   "id": "7fe53278",
   "metadata": {},
   "outputs": [],
   "source": [
    "a = (42,)"
   ]
  },
  {
   "cell_type": "code",
   "execution_count": 87,
   "id": "5609ec90",
   "metadata": {},
   "outputs": [
    {
     "data": {
      "text/plain": [
       "(42,)"
      ]
     },
     "execution_count": 87,
     "metadata": {},
     "output_type": "execute_result"
    }
   ],
   "source": [
    "a"
   ]
  },
  {
   "cell_type": "markdown",
   "id": "2a6e63fd",
   "metadata": {},
   "source": [
    "Ans 15)"
   ]
  },
  {
   "cell_type": "code",
   "execution_count": 122,
   "id": "1fd714ba",
   "metadata": {},
   "outputs": [
    {
     "data": {
      "text/plain": [
       "[1, 2, 3, 4]"
      ]
     },
     "execution_count": 122,
     "metadata": {},
     "output_type": "execute_result"
    }
   ],
   "source": [
    "my_list"
   ]
  },
  {
   "cell_type": "code",
   "execution_count": 3,
   "id": "5d639915",
   "metadata": {},
   "outputs": [
    {
     "data": {
      "text/plain": [
       "(1, 2, 3, 4)"
      ]
     },
     "execution_count": 3,
     "metadata": {},
     "output_type": "execute_result"
    }
   ],
   "source": [
    "tuple([1,2,3,4])"
   ]
  },
  {
   "cell_type": "code",
   "execution_count": 5,
   "id": "7854071a",
   "metadata": {},
   "outputs": [
    {
     "data": {
      "text/plain": [
       "[4, 5, 6, 7]"
      ]
     },
     "execution_count": 5,
     "metadata": {},
     "output_type": "execute_result"
    }
   ],
   "source": [
    "list((4,5,6,7))"
   ]
  },
  {
   "cell_type": "markdown",
   "id": "9860e0eb",
   "metadata": {},
   "source": [
    "Ans 16) They Contain Refrance of that value"
   ]
  },
  {
   "cell_type": "markdown",
   "id": "895bab70",
   "metadata": {},
   "source": [
    "Ans 17)The copy.copy() function will do a shallow copy of a list, while the copy.deepcopy() function will do a deep copy of a list. That is, only copy.deepcopy() will duplicate any lists inside the list.\n",
    "\n",
    "\n"
   ]
  }
 ],
 "metadata": {
  "kernelspec": {
   "display_name": "Python 3 (ipykernel)",
   "language": "python",
   "name": "python3"
  },
  "language_info": {
   "codemirror_mode": {
    "name": "ipython",
    "version": 3
   },
   "file_extension": ".py",
   "mimetype": "text/x-python",
   "name": "python",
   "nbconvert_exporter": "python",
   "pygments_lexer": "ipython3",
   "version": "3.9.12"
  }
 },
 "nbformat": 4,
 "nbformat_minor": 5
}
